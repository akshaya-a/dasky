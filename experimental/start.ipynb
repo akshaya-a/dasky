{
 "cells": [
  {
   "cell_type": "markdown",
   "metadata": {},
   "source": [
    "# Start Interactive Dask Cluster"
   ]
  },
  {
   "cell_type": "code",
   "execution_count": null,
   "metadata": {},
   "outputs": [],
   "source": [
    "pip install git+https://github.com/drabastomek/dask-cloudprovider"
   ]
  },
  {
   "cell_type": "markdown",
   "metadata": {},
   "source": [
    "**RESTART YOUR KERNEL**"
   ]
  },
  {
   "cell_type": "markdown",
   "metadata": {},
   "source": [
    "## Imports\n",
    "\n",
    "Import all packages used in this notebook."
   ]
  },
  {
   "cell_type": "code",
   "execution_count": 1,
   "metadata": {},
   "outputs": [],
   "source": [
    "import os\n",
    "\n",
    "from azureml.widgets import RunDetails\n",
    "from azureml.core.compute import ComputeTarget, AmlCompute\n",
    "from azureml.core import Workspace, Experiment, Datastore, Dataset, Environment"
   ]
  },
  {
   "cell_type": "markdown",
   "metadata": {},
   "source": [
    "## Azure ML setup\n",
    "\n",
    "Get the workspace."
   ]
  },
  {
   "cell_type": "code",
   "execution_count": 2,
   "metadata": {},
   "outputs": [
    {
     "data": {
      "text/plain": [
       "Workspace.create(name='dask-cloudprovider', subscription_id='6560575d-fa06-4e7d-95fb-f962e74efd7a', resource_group='cody-rg')"
      ]
     },
     "execution_count": 2,
     "metadata": {},
     "output_type": "execute_result"
    }
   ],
   "source": [
    "ws = Workspace.from_config()\n",
    "ws"
   ]
  },
  {
   "cell_type": "markdown",
   "metadata": {},
   "source": [
    "### Enter your name\n",
    "\n",
    "Enter your name and virtual network information."
   ]
  },
  {
   "cell_type": "code",
   "execution_count": 3,
   "metadata": {},
   "outputs": [
    {
     "name": "stdout",
     "output_type": "stream",
     "text": [
      "\n",
      "Name: dask\n",
      "\n",
      "vNET RG: cody-rg\n",
      "vNET name: wifi\n",
      "vNET subnet name: default\n",
      "\n",
      "Compute target: dask-ct\n",
      "Environment name: dask-env\n",
      "\n"
     ]
    }
   ],
   "source": [
    "### name\n",
    "name        = 'dask'             # REPLACE\n",
    "\n",
    "### vnet settings\n",
    "vnet_rg     = ws.resource_group  # replace if needed\n",
    "vnet_name   = 'wifi'       # replace if needed\n",
    "subnet_name = 'default'          # replace if needed\n",
    "\n",
    "### azure ml names \n",
    "ct_name     = f'{name}-ct'\n",
    "env_name    = f'{name}-env'\n",
    "\n",
    "### trust but verify\n",
    "verify = f'''\n",
    "Name: {name}\n",
    "\n",
    "vNET RG: {vnet_rg}\n",
    "vNET name: {vnet_name}\n",
    "vNET subnet name: {subnet_name}\n",
    "\n",
    "Compute target: {ct_name}\n",
    "Environment name: {env_name}\n",
    "'''\n",
    "\n",
    "print(verify)"
   ]
  },
  {
   "cell_type": "markdown",
   "metadata": {},
   "source": [
    "### Create VM pool\n",
    "\n",
    "Create Azure ML VM pool for creating remote dask cluster(s)."
   ]
  },
  {
   "cell_type": "code",
   "execution_count": 4,
   "metadata": {},
   "outputs": [
    {
     "data": {
      "text/plain": [
       "AmlCompute(workspace=Workspace.create(name='dask-cloudprovider', subscription_id='6560575d-fa06-4e7d-95fb-f962e74efd7a', resource_group='cody-rg'), name=dask-ct, id=/subscriptions/6560575d-fa06-4e7d-95fb-f962e74efd7a/resourceGroups/cody-rg/providers/Microsoft.MachineLearningServices/workspaces/dask-cloudprovider/computes/dask-ct, type=AmlCompute, provisioning_state=Succeeded, location=westeurope, tags=None)"
      ]
     },
     "execution_count": 4,
     "metadata": {},
     "output_type": "execute_result"
    }
   ],
   "source": [
    "if ct_name not in ws.compute_targets:\n",
    "    # create config for Azure ML cluster\n",
    "    # change properties as needed\n",
    "    config = AmlCompute.provisioning_configuration(\n",
    "             vm_size                       = 'STANDARD_DS13_V2', # 8 core 56 GiB 112 SSD \n",
    "             min_nodes                     = 0,\n",
    "             max_nodes                     = 100,\n",
    "             vnet_resourcegroup_name       = vnet_rg,              \n",
    "             vnet_name                     = vnet_name,         \n",
    "             subnet_name                   = subnet_name,          \n",
    "             idle_seconds_before_scaledown = 300\n",
    "    )\n",
    "    ct = ComputeTarget.create(ws, ct_name, config)\n",
    "    ct.wait_for_completion(show_output=True)    \n",
    "else:\n",
    "    ct = ws.compute_targets[ct_name]\n",
    "    \n",
    "ct"
   ]
  },
  {
   "cell_type": "markdown",
   "metadata": {},
   "source": [
    "## Startup cluster\n",
    "\n",
    "Start the run now. The first time, this will take "
   ]
  },
  {
   "cell_type": "markdown",
   "metadata": {},
   "source": [
    "### Mount Compute Instance code fileshare\n",
    "\n",
    "This will create the compute instance code fileshare as a datastore. The default name `code-391ff5ac-6576-460f-ba4d-7e03433c68b6` and has the same credentials as the default fileshare for the workspace. This will be mounted for easy access to notebooks on the cluster."
   ]
  },
  {
   "cell_type": "code",
   "execution_count": 5,
   "metadata": {},
   "outputs": [],
   "source": [
    "codefileshare = 'codefileshare'\n",
    "\n",
    "if codefileshare not in ws.datastores:\n",
    "    Datastore.register_azure_file_share(ws, codefileshare,\n",
    "                                        'code-391ff5ac-6576-460f-ba4d-7e03433c68b6',                    \n",
    "                                        account_name = ws.datastores['workspacefilestore'].account_name, \n",
    "                                        account_key  = ws.datastores['workspacefilestore'].account_key   \n",
    "                                       )"
   ]
  },
  {
   "cell_type": "markdown",
   "metadata": {},
   "source": [
    "### Get data\n",
    "\n",
    "This will get NOAA ISD Weather data which is used in the demo. If you already have data, you can skip this."
   ]
  },
  {
   "cell_type": "code",
   "execution_count": 6,
   "metadata": {},
   "outputs": [],
   "source": [
    "daskdata = 'noaa-isd-files'\n",
    "\n",
    "if daskdata not in ws.datasets and False:\n",
    "    ds = Dataset.File.from_files('https://azureopendatastorage.blob.core.windows.net/isdweatherdatacontainer/ISDWeather/*/*/*.parquet', validate=False)\n",
    "    os.system('sudo chmod 777 /mnt')\n",
    "    ds.download('/mnt/data/isd')\n",
    "    ws.datastores['gen2'].upload('/mnt/data/isd', '/noaa-isd')\n",
    "    ds = ds.register(ws, daskdata)"
   ]
  },
  {
   "cell_type": "markdown",
   "metadata": {},
   "source": [
    "### Start cluster\n",
    "\n",
    "This will soon be replaced."
   ]
  },
  {
   "cell_type": "code",
   "execution_count": 7,
   "metadata": {},
   "outputs": [],
   "source": [
    "from dask_cloudprovider import AzureMLCluster"
   ]
  },
  {
   "cell_type": "code",
   "execution_count": 8,
   "metadata": {},
   "outputs": [],
   "source": [
    "packages = ['mpi4py',\n",
    "            'distributed',\n",
    "            'dask[complete]',\n",
    "            'dask-ml[complete]',\n",
    "            'fastparquet',\n",
    "            'pyarrow',\n",
    "            'jupyterlab',\n",
    "            'joblib',\n",
    "            'notebook',\n",
    "            'adlfs', \n",
    "            'fsspec', \n",
    "            'azureml-sdk[notebooks]',\n",
    "            'azureml-dataprep[fuse]',\n",
    "            'lz4']\n",
    "\n",
    "env = Environment(name=env_name)\n",
    "\n",
    "for package in packages:\n",
    "    env.python.conda_dependencies.add_pip_package(package)"
   ]
  },
  {
   "cell_type": "code",
   "execution_count": 9,
   "metadata": {},
   "outputs": [
    {
     "name": "stderr",
     "output_type": "stream",
     "text": [
      "WARNING - This compute target type doesn't support non-Docker runs; overriding run configuration enable Docker.\n"
     ]
    },
    {
     "name": "stdout",
     "output_type": "stream",
     "text": [
      "############################## Setting up cluster ##############################\n",
      "########################## Submitting the experiment ###########################\n",
      "####################### Waiting for scheduler node's IP ########################\n",
      ".......................................................................\n",
      "\n",
      "\n",
      "########################## Scheduler: 10.12.0.6:8786 ###########################\n",
      "############################### On the same VNET ###############################\n",
      "########################### Connections established ############################\n",
      "############################# Scaling to 1 workers #############################\n",
      "############################### Scaling is done ################################\n"
     ]
    }
   ],
   "source": [
    "cluster = AzureMLCluster(ws, \n",
    "                         ct, \n",
    "                         env, \n",
    "                         jupyter=True, \n",
    "                         initial_nodes=1,\n",
    "                         datastores=[ws.datastores[datastore] for datastore in ws.datastores]\n",
    "                        )"
   ]
  },
  {
   "cell_type": "code",
   "execution_count": 10,
   "metadata": {},
   "outputs": [
    {
     "data": {
      "text/html": [
       "<table style=\"width:100%\"><tr><th>Experiment</th><th>Id</th><th>Type</th><th>Status</th><th>Details Page</th><th>Docs Page</th></tr><tr><td>dask-cloudprovider</td><td>dask-cloudprovider_1581557662_6e28cfc1</td><td>azureml.scriptrun</td><td>Running</td><td><a href=\"https://ml.azure.com/experiments/dask-cloudprovider/runs/dask-cloudprovider_1581557662_6e28cfc1?wsid=/subscriptions/6560575d-fa06-4e7d-95fb-f962e74efd7a/resourcegroups/cody-rg/workspaces/dask-cloudprovider\" target=\"_blank\" rel=\"noopener\">Link to Azure Machine Learning studio</a></td><td><a href=\"https://docs.microsoft.com/en-us/python/api/azureml-core/azureml.core.script_run.ScriptRun?view=azure-ml-py\" target=\"_blank\" rel=\"noopener\">Link to Documentation</a></td></tr></table>"
      ],
      "text/plain": [
       "Run(Experiment: dask-cloudprovider,\n",
       "Id: dask-cloudprovider_1581557662_6e28cfc1,\n",
       "Type: azureml.scriptrun,\n",
       "Status: Running)"
      ]
     },
     "execution_count": 10,
     "metadata": {},
     "output_type": "execute_result"
    }
   ],
   "source": [
    "cluster.run"
   ]
  },
  {
   "cell_type": "code",
   "execution_count": 11,
   "metadata": {},
   "outputs": [],
   "source": [
    "cluster.scale(10)"
   ]
  },
  {
   "cell_type": "code",
   "execution_count": 12,
   "metadata": {},
   "outputs": [
    {
     "data": {
      "application/vnd.jupyter.widget-view+json": {
       "model_id": "8ab02c1dc2344851be668f521f1970a1",
       "version_major": 2,
       "version_minor": 0
      },
      "text/plain": [
       "VBox(children=(HTML(value='<h2>AzureMLCluster</h2>'), HBox(children=(HTML(value='\\n<div>\\n  <style scoped>\\n  …"
      ]
     },
     "metadata": {},
     "output_type": "display_data"
    }
   ],
   "source": [
    "cluster"
   ]
  },
  {
   "cell_type": "code",
   "execution_count": null,
   "metadata": {},
   "outputs": [],
   "source": [
    "from dask.distributed import Client\n",
    "\n",
    "c = Client(cluster)"
   ]
  },
  {
   "cell_type": "code",
   "execution_count": null,
   "metadata": {},
   "outputs": [],
   "source": [
    "help(AzureMLCluster)"
   ]
  },
  {
   "cell_type": "code",
   "execution_count": 13,
   "metadata": {},
   "outputs": [
    {
     "name": "stdout",
     "output_type": "stream",
     "text": [
      "################### Scheduler and workers are disconnected. ####################\n"
     ]
    }
   ],
   "source": [
    "cluster.close()"
   ]
  }
 ],
 "metadata": {
  "kernelspec": {
   "display_name": "Python 3.6 - AzureML",
   "language": "python",
   "name": "python3-azureml"
  },
  "language_info": {
   "codemirror_mode": {
    "name": "ipython",
    "version": 3
   },
   "file_extension": ".py",
   "mimetype": "text/x-python",
   "name": "python",
   "nbconvert_exporter": "python",
   "pygments_lexer": "ipython3",
   "version": "3.6.9"
  }
 },
 "nbformat": 4,
 "nbformat_minor": 4
}
