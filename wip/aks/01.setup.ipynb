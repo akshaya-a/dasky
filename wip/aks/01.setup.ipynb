{
 "cells": [
  {
   "cell_type": "code",
   "execution_count": null,
   "metadata": {},
   "outputs": [],
   "source": [
    "!sudo apt-get update && sudo apt-get install -y apt-transport-https\n",
    "!curl -s https://packages.cloud.google.com/apt/doc/apt-key.gpg | sudo apt-key add -\n",
    "!echo \"deb https://apt.kubernetes.io/ kubernetes-xenial main\" | sudo tee -a /etc/apt/sources.list.d/kubernetes.list\n",
    "!sudo apt-get update\n",
    "!sudo apt-get install -y kubectl"
   ]
  },
  {
   "cell_type": "code",
   "execution_count": null,
   "metadata": {},
   "outputs": [],
   "source": [
    "!curl https://raw.githubusercontent.com/kubernetes/helm/master/scripts/get | bash"
   ]
  },
  {
   "cell_type": "code",
   "execution_count": null,
   "metadata": {},
   "outputs": [],
   "source": [
    "!sudo apt-get install gir1.2-glib-2.0"
   ]
  },
  {
   "cell_type": "code",
   "execution_count": null,
   "metadata": {},
   "outputs": [],
   "source": [
    "!pip install --upgrade dask[complete] dask-kubernetes dask-gateway "
   ]
  },
  {
   "cell_type": "markdown",
   "metadata": {},
   "source": [
    "**RESTART YOUR KERNEL**"
   ]
  },
  {
   "cell_type": "code",
   "execution_count": 1,
   "metadata": {},
   "outputs": [
    {
     "name": "stdout",
     "output_type": "stream",
     "text": [
      "\u001b[33mTo sign in, use a web browser to open the page https://microsoft.com/devicelogin and enter the code BYE8CS6ZW to authenticate.\u001b[0m\n",
      "\u001b[33mFailed to authenticate '{'additional_properties': {'displayName': 'Chevron', 'tenantCategory': 'Home', 'countryCode': 'US', 'domains': ['pasadenarefining.com', 'chevronstores.com', 'caltexgo.com', 'caltex.com.vn', 'chevronpac.com', 'chevronlummusglobal.com', 'chevronuktr.com', 'xponentcard.com', 'chevronenergy.com', 'chevronlubricants.com', 'cvxarea52.com', 'deepstar.org', 'arteco-coolants.eu', 'chevronpartnershipprograms.com', 'chevronadvocacynetwork.com', 'anlngservices.com', 'catchlightenergy.com', 'sasolchevron.com', 'caltex.com', 'richmondrefinery.com', 'chevronapc.onmicrosoft.com', 'chevroneur.onmicrosoft.com', 'chevrontexaco.net', 'chevrontexaco.com', 'tengizchevroil.net', 'tengizchevroil.com', 'tco.tengizchevroil.net', 'chevron.mail.onmicrosoft.com', 'chevron.onmicrosoft.com', 'ct.chevrontexaco.net', 'chevron.net', 'chevron.com']}, 'id': '/tenants/fd799da1-bfc1-4234-a91c-72b3a1cb9e26', 'tenant_id': 'fd799da1-bfc1-4234-a91c-72b3a1cb9e26'}' due to error 'Get Token request returned http error: 400 and server response: {\"error\":\"interaction_required\",\"error_description\":\"AADSTS50076: Due to a configuration change made by your administrator, or because you moved to a new location, you must use multi-factor authentication to access '797f4846-ba00-4fd7-ba43-dac1f8f63013'.\\r\\nTrace ID: 83d6b5f9-3bd2-40e4-a029-f161881d0200\\r\\nCorrelation ID: c4eb94b2-717f-4731-8975-2164f04219a6\\r\\nTimestamp: 2020-03-22 00:51:56Z\",\"error_codes\":[50076],\"timestamp\":\"2020-03-22 00:51:56Z\",\"trace_id\":\"83d6b5f9-3bd2-40e4-a029-f161881d0200\",\"correlation_id\":\"c4eb94b2-717f-4731-8975-2164f04219a6\",\"error_uri\":\"https://login.microsoftonline.com/error?code=50076\",\"suberror\":\"basic_action\"}'\u001b[0m\n"
     ]
    }
   ],
   "source": [
    "!az login >> /dev/null"
   ]
  },
  {
   "cell_type": "code",
   "execution_count": 2,
   "metadata": {},
   "outputs": [
    {
     "name": "stdout",
     "output_type": "stream",
     "text": [
      "{\n",
      "  \"environmentName\": \"AzureCloud\",\n",
      "  \"homeTenantId\": \"72f988bf-86f1-41af-91ab-2d7cd011db47\",\n",
      "  \"id\": \"6560575d-fa06-4e7d-95fb-f962e74efd7a\",\n",
      "  \"isDefault\": true,\n",
      "  \"managedByTenants\": [\n",
      "    {\n",
      "      \"tenantId\": \"2f4a9838-26b7-47ee-be60-ccc1fdec5953\"\n",
      "    }\n",
      "  ],\n",
      "  \"name\": \"Data4ML PM\",\n",
      "  \"state\": \"Enabled\",\n",
      "  \"tenantId\": \"72f988bf-86f1-41af-91ab-2d7cd011db47\",\n",
      "  \"user\": {\n",
      "    \"name\": \"copeters@microsoft.com\",\n",
      "    \"type\": \"user\"\n",
      "  }\n",
      "}\n",
      "\u001b[0m"
     ]
    }
   ],
   "source": [
    "!az account show"
   ]
  },
  {
   "cell_type": "code",
   "execution_count": 3,
   "metadata": {},
   "outputs": [],
   "source": [
    "import os\n",
    "os.environ['RG']  = 'cody-dask-aks-rg'\n",
    "os.environ['AKS'] = 'dask-aks'\n",
    "os.environ['LOC'] = 'westus2'\n",
    "os.environ['VM']  = 'STANDARD_DS12_V2'\n",
    "os.environ['MIN'] = '3'\n",
    "os.environ['MAX'] = '100'"
   ]
  },
  {
   "cell_type": "code",
   "execution_count": 4,
   "metadata": {},
   "outputs": [
    {
     "name": "stdout",
     "output_type": "stream",
     "text": [
      "{\n",
      "  \"id\": \"/subscriptions/6560575d-fa06-4e7d-95fb-f962e74efd7a/resourceGroups/cody-dask-aks-rg\",\n",
      "  \"location\": \"westus2\",\n",
      "  \"managedBy\": null,\n",
      "  \"name\": \"cody-dask-aks-rg\",\n",
      "  \"properties\": {\n",
      "    \"provisioningState\": \"Succeeded\"\n",
      "  },\n",
      "  \"tags\": null,\n",
      "  \"type\": \"Microsoft.Resources/resourceGroups\"\n",
      "}\n",
      "\u001b[0m"
     ]
    }
   ],
   "source": [
    "!az group create -n $RG -l $LOC"
   ]
  },
  {
   "cell_type": "code",
   "execution_count": 6,
   "metadata": {},
   "outputs": [
    {
     "name": "stdout",
     "output_type": "stream",
     "text": [
      "\u001b[K{- Finished ..principal creation[##################################]  100.0000%\n",
      "  \"aadProfile\": null,\n",
      "  \"addonProfiles\": null,\n",
      "  \"agentPoolProfiles\": [\n",
      "    {\n",
      "      \"availabilityZones\": null,\n",
      "      \"count\": 3,\n",
      "      \"enableAutoScaling\": true,\n",
      "      \"enableNodePublicIp\": null,\n",
      "      \"maxCount\": 100,\n",
      "      \"maxPods\": 110,\n",
      "      \"minCount\": 3,\n",
      "      \"name\": \"nodepool1\",\n",
      "      \"nodeLabels\": null,\n",
      "      \"nodeTaints\": null,\n",
      "      \"orchestratorVersion\": \"1.15.10\",\n",
      "      \"osDiskSizeGb\": 100,\n",
      "      \"osType\": \"Linux\",\n",
      "      \"provisioningState\": \"Succeeded\",\n",
      "      \"scaleSetEvictionPolicy\": null,\n",
      "      \"scaleSetPriority\": null,\n",
      "      \"tags\": null,\n",
      "      \"type\": \"VirtualMachineScaleSets\",\n",
      "      \"vmSize\": \"Standard_DS2_v2\",\n",
      "      \"vnetSubnetId\": null\n",
      "    }\n",
      "  ],\n",
      "  \"apiServerAccessProfile\": null,\n",
      "  \"dnsPrefix\": \"dask-aks-cody-dask-aks-rg-656057\",\n",
      "  \"enablePodSecurityPolicy\": null,\n",
      "  \"enableRbac\": true,\n",
      "  \"fqdn\": \"dask-aks-cody-dask-aks-rg-656057-a7bd71c0.hcp.westus2.azmk8s.io\",\n",
      "  \"id\": \"/subscriptions/6560575d-fa06-4e7d-95fb-f962e74efd7a/resourcegroups/cody-dask-aks-rg/providers/Microsoft.ContainerService/managedClusters/dask-aks\",\n",
      "  \"identity\": null,\n",
      "  \"identityProfile\": null,\n",
      "  \"kubernetesVersion\": \"1.15.10\",\n",
      "  \"linuxProfile\": {\n",
      "    \"adminUsername\": \"azureuser\",\n",
      "    \"ssh\": {\n",
      "      \"publicKeys\": [\n",
      "        {\n",
      "          \"keyData\": \"ssh-rsa AAAAB3NzaC1yc2EAAAADAQABAAABAQCyFxy8/T//rcjxP2EvOPNaP9TTtn5fqoIMoRAphlo6WUrY07p5P87KzoSgj1iD8mIClupDwcYJ0azUPhwm1kqPOMrRyCklTXqvVbJCvrLdDXa8pHYA48vNIBP1YVv4ljy0Z1vEk5L1ihLgCgr24czY/Q+wOe7NUKWMXPU8tshaFP1UpBmP6agjvZK5T7IcYFuORQ+o3OV4sIjtZNnIJhVu6DUvONu/xHIjsoH+nnIbzQRjxsI/K9s7AiY1S7zIUoWvmqAjbKS9Zds5Z1VBUDLXBlHPIGvNmwzK7Z+Cj70oFgACfF2KWU61bQLSkXVf4/gXbpeHVuqf6qfYiq+4MeXH\"\n",
      "        }\n",
      "      ]\n",
      "    }\n",
      "  },\n",
      "  \"location\": \"westus2\",\n",
      "  \"maxAgentPools\": 10,\n",
      "  \"name\": \"dask-aks\",\n",
      "  \"networkProfile\": {\n",
      "    \"dnsServiceIp\": \"10.0.0.10\",\n",
      "    \"dockerBridgeCidr\": \"172.17.0.1/16\",\n",
      "    \"loadBalancerProfile\": {\n",
      "      \"allocatedOutboundPorts\": null,\n",
      "      \"effectiveOutboundIps\": [\n",
      "        {\n",
      "          \"id\": \"/subscriptions/6560575d-fa06-4e7d-95fb-f962e74efd7a/resourceGroups/MC_cody-dask-aks-rg_dask-aks_westus2/providers/Microsoft.Network/publicIPAddresses/4d2f8eec-d7cd-4d56-b177-120f7bd27353\",\n",
      "          \"resourceGroup\": \"MC_cody-dask-aks-rg_dask-aks_westus2\"\n",
      "        }\n",
      "      ],\n",
      "      \"idleTimeoutInMinutes\": null,\n",
      "      \"managedOutboundIps\": {\n",
      "        \"count\": 1\n",
      "      },\n",
      "      \"outboundIpPrefixes\": null,\n",
      "      \"outboundIps\": null\n",
      "    },\n",
      "    \"loadBalancerSku\": \"Standard\",\n",
      "    \"networkPlugin\": \"kubenet\",\n",
      "    \"networkPolicy\": null,\n",
      "    \"outboundType\": \"loadBalancer\",\n",
      "    \"podCidr\": \"10.244.0.0/16\",\n",
      "    \"serviceCidr\": \"10.0.0.0/16\"\n",
      "  },\n",
      "  \"nodeResourceGroup\": \"MC_cody-dask-aks-rg_dask-aks_westus2\",\n",
      "  \"privateFqdn\": null,\n",
      "  \"provisioningState\": \"Succeeded\",\n",
      "  \"resourceGroup\": \"cody-dask-aks-rg\",\n",
      "  \"servicePrincipalProfile\": {\n",
      "    \"clientId\": \"5d297b61-5a7a-443f-827e-d7c799eefa87\",\n",
      "    \"secret\": null\n",
      "  },\n",
      "  \"tags\": null,\n",
      "  \"type\": \"Microsoft.ContainerService/ManagedClusters\",\n",
      "  \"windowsProfile\": null\n",
      "}\n",
      "\u001b[0m"
     ]
    }
   ],
   "source": [
    "!az aks create -n $AKS -g $RG --node-vm-size $VM --enable-cluster-autoscaler --min-count $MIN --max-count $MAX"
   ]
  },
  {
   "cell_type": "code",
   "execution_count": 7,
   "metadata": {},
   "outputs": [
    {
     "name": "stdout",
     "output_type": "stream",
     "text": [
      "{\n",
      "  \"aadProfile\": null,\n",
      "  \"addonProfiles\": null,\n",
      "  \"agentPoolProfiles\": [\n",
      "    {\n",
      "      \"availabilityZones\": null,\n",
      "      \"count\": 3,\n",
      "      \"enableAutoScaling\": true,\n",
      "      \"enableNodePublicIp\": null,\n",
      "      \"maxCount\": 100,\n",
      "      \"maxPods\": 110,\n",
      "      \"minCount\": 3,\n",
      "      \"name\": \"nodepool1\",\n",
      "      \"nodeLabels\": null,\n",
      "      \"nodeTaints\": null,\n",
      "      \"orchestratorVersion\": \"1.15.10\",\n",
      "      \"osDiskSizeGb\": 100,\n",
      "      \"osType\": \"Linux\",\n",
      "      \"provisioningState\": \"Succeeded\",\n",
      "      \"scaleSetEvictionPolicy\": null,\n",
      "      \"scaleSetPriority\": null,\n",
      "      \"tags\": null,\n",
      "      \"type\": \"VirtualMachineScaleSets\",\n",
      "      \"vmSize\": \"Standard_DS2_v2\"\n",
      "    }\n",
      "  ],\n",
      "  \"apiServerAccessProfile\": null,\n",
      "  \"dnsPrefix\": \"dask-aks-cody-dask-aks-rg-656057\",\n",
      "  \"enablePodSecurityPolicy\": null,\n",
      "  \"enableRbac\": true,\n",
      "  \"fqdn\": \"dask-aks-cody-dask-aks-rg-656057-a7bd71c0.hcp.westus2.azmk8s.io\",\n",
      "  \"id\": \"/subscriptions/6560575d-fa06-4e7d-95fb-f962e74efd7a/resourcegroups/cody-dask-aks-rg/providers/Microsoft.ContainerService/managedClusters/dask-aks\",\n",
      "  \"identity\": null,\n",
      "  \"identityProfile\": null,\n",
      "  \"kubernetesVersion\": \"1.15.10\",\n",
      "  \"linuxProfile\": {\n",
      "    \"adminUsername\": \"azureuser\",\n",
      "    \"ssh\": {\n",
      "      \"publicKeys\": [\n",
      "        {\n",
      "          \"keyData\": \"ssh-rsa AAAAB3NzaC1yc2EAAAADAQABAAABAQCyFxy8/T//rcjxP2EvOPNaP9TTtn5fqoIMoRAphlo6WUrY07p5P87KzoSgj1iD8mIClupDwcYJ0azUPhwm1kqPOMrRyCklTXqvVbJCvrLdDXa8pHYA48vNIBP1YVv4ljy0Z1vEk5L1ihLgCgr24czY/Q+wOe7NUKWMXPU8tshaFP1UpBmP6agjvZK5T7IcYFuORQ+o3OV4sIjtZNnIJhVu6DUvONu/xHIjsoH+nnIbzQRjxsI/K9s7AiY1S7zIUoWvmqAjbKS9Zds5Z1VBUDLXBlHPIGvNmwzK7Z+Cj70oFgACfF2KWU61bQLSkXVf4/gXbpeHVuqf6qfYiq+4MeXH\"\n",
      "        }\n",
      "      ]\n",
      "    }\n",
      "  },\n",
      "  \"location\": \"westus2\",\n",
      "  \"maxAgentPools\": 10,\n",
      "  \"name\": \"dask-aks\",\n",
      "  \"networkProfile\": {\n",
      "    \"dnsServiceIp\": \"10.0.0.10\",\n",
      "    \"dockerBridgeCidr\": \"172.17.0.1/16\",\n",
      "    \"loadBalancerProfile\": {\n",
      "      \"allocatedOutboundPorts\": null,\n",
      "      \"effectiveOutboundIps\": [\n",
      "        {\n",
      "          \"id\": \"/subscriptions/6560575d-fa06-4e7d-95fb-f962e74efd7a/resourceGroups/MC_cody-dask-aks-rg_dask-aks_westus2/providers/Microsoft.Network/publicIPAddresses/4d2f8eec-d7cd-4d56-b177-120f7bd27353\",\n",
      "          \"resourceGroup\": \"MC_cody-dask-aks-rg_dask-aks_westus2\"\n",
      "        }\n",
      "      ],\n",
      "      \"idleTimeoutInMinutes\": null,\n",
      "      \"managedOutboundIps\": {\n",
      "        \"count\": 1\n",
      "      },\n",
      "      \"outboundIpPrefixes\": null,\n",
      "      \"outboundIps\": null\n",
      "    },\n",
      "    \"loadBalancerSku\": \"Standard\",\n",
      "    \"networkPlugin\": \"kubenet\",\n",
      "    \"networkPolicy\": null,\n",
      "    \"outboundType\": \"loadBalancer\",\n",
      "    \"podCidr\": \"10.244.0.0/16\",\n",
      "    \"serviceCidr\": \"10.0.0.0/16\"\n",
      "  },\n",
      "  \"nodeResourceGroup\": \"MC_cody-dask-aks-rg_dask-aks_westus2\",\n",
      "  \"privateFqdn\": null,\n",
      "  \"provisioningState\": \"Succeeded\",\n",
      "  \"resourceGroup\": \"cody-dask-aks-rg\",\n",
      "  \"servicePrincipalProfile\": {\n",
      "    \"clientId\": \"5d297b61-5a7a-443f-827e-d7c799eefa87\"\n",
      "  },\n",
      "  \"type\": \"Microsoft.ContainerService/ManagedClusters\",\n",
      "  \"windowsProfile\": null\n",
      "}\n",
      "\u001b[0m"
     ]
    }
   ],
   "source": [
    "!az aks show -n $AKS -g $RG"
   ]
  },
  {
   "cell_type": "code",
   "execution_count": 8,
   "metadata": {},
   "outputs": [
    {
     "name": "stdout",
     "output_type": "stream",
     "text": [
      "Merged \"dask-aks\" as current context in /home/azureuser/.kube/config\n",
      "\u001b[0m"
     ]
    }
   ],
   "source": [
    "!az aks get-credentials -n $AKS -g $RG --overwrite-existing"
   ]
  },
  {
   "cell_type": "code",
   "execution_count": 9,
   "metadata": {},
   "outputs": [
    {
     "name": "stdout",
     "output_type": "stream",
     "text": [
      "serviceaccount/tiller created\n"
     ]
    }
   ],
   "source": [
    "!kubectl --namespace kube-system create serviceaccount tiller"
   ]
  },
  {
   "cell_type": "code",
   "execution_count": 10,
   "metadata": {},
   "outputs": [
    {
     "name": "stdout",
     "output_type": "stream",
     "text": [
      "clusterrolebinding.rbac.authorization.k8s.io/tiller created\n"
     ]
    }
   ],
   "source": [
    "!kubectl create clusterrolebinding tiller --clusterrole cluster-admin --serviceaccount=kube-system:tiller"
   ]
  },
  {
   "cell_type": "code",
   "execution_count": 11,
   "metadata": {},
   "outputs": [
    {
     "name": "stdout",
     "output_type": "stream",
     "text": [
      "Creating /home/azureuser/.helm \n",
      "Creating /home/azureuser/.helm/repository \n",
      "Creating /home/azureuser/.helm/repository/cache \n",
      "Creating /home/azureuser/.helm/repository/local \n",
      "Creating /home/azureuser/.helm/plugins \n",
      "Creating /home/azureuser/.helm/starters \n",
      "Creating /home/azureuser/.helm/cache/archive \n",
      "Creating /home/azureuser/.helm/repository/repositories.yaml \n",
      "Adding stable repo with URL: https://kubernetes-charts.storage.googleapis.com \n",
      "Adding local repo with URL: http://127.0.0.1:8879/charts \n",
      "$HELM_HOME has been configured at /home/azureuser/.helm.\n",
      "\n",
      "Tiller (the Helm server-side component) has been installed into your Kubernetes Cluster.\n",
      "\n",
      "Please note: by default, Tiller is deployed with an insecure 'allow unauthenticated users' policy.\n",
      "To prevent this, run `helm init` with the --tiller-tls-verify flag.\n",
      "For more information on securing your installation see: https://docs.helm.sh/using_helm/#securing-your-helm-installation\n"
     ]
    }
   ],
   "source": [
    "!helm init --service-account tiller --history-max 100 --wait"
   ]
  },
  {
   "cell_type": "code",
   "execution_count": 12,
   "metadata": {},
   "outputs": [
    {
     "name": "stdout",
     "output_type": "stream",
     "text": [
      "deployment.extensions/tiller-deploy patched\n"
     ]
    }
   ],
   "source": [
    "!kubectl patch deployment tiller-deploy --namespace=kube-system --type=json --patch='[{\"op\": \"add\", \"path\": \"/spec/template/spec/containers/0/command\", \"value\": [\"/tiller\", \"--listen=localhost:44134\"]}]'"
   ]
  },
  {
   "cell_type": "code",
   "execution_count": 13,
   "metadata": {},
   "outputs": [
    {
     "name": "stdout",
     "output_type": "stream",
     "text": [
      "Client: &version.Version{SemVer:\"v2.16.3\", GitCommit:\"1ee0254c86d4ed6887327dabed7aa7da29d7eb0d\", GitTreeState:\"clean\"}\n",
      "Server: &version.Version{SemVer:\"v2.16.3\", GitCommit:\"1ee0254c86d4ed6887327dabed7aa7da29d7eb0d\", GitTreeState:\"clean\"}\n"
     ]
    }
   ],
   "source": [
    "!helm version"
   ]
  },
  {
   "cell_type": "code",
   "execution_count": 14,
   "metadata": {},
   "outputs": [
    {
     "name": "stdout",
     "output_type": "stream",
     "text": [
      "\"dask-gateway\" has been added to your repositories\n"
     ]
    }
   ],
   "source": [
    "!helm repo add dask-gateway https://dask.org/dask-gateway-helm-repo"
   ]
  },
  {
   "cell_type": "code",
   "execution_count": 15,
   "metadata": {},
   "outputs": [
    {
     "name": "stdout",
     "output_type": "stream",
     "text": [
      "Hang tight while we grab the latest from your chart repositories...\n",
      "...Skip local chart repository\n",
      "...Successfully got an update from the \"dask-gateway\" chart repository\n",
      "...Successfully got an update from the \"stable\" chart repository\n",
      "Update Complete.\n"
     ]
    }
   ],
   "source": [
    "!helm repo update"
   ]
  },
  {
   "cell_type": "code",
   "execution_count": 45,
   "metadata": {},
   "outputs": [
    {
     "name": "stdout",
     "output_type": "stream",
     "text": [
      "3beeb083391169fc6cfa2762862d0c1d05638ed7baaf9df9aa546e85731fc730\n"
     ]
    }
   ],
   "source": [
    "!openssl rand -hex 32"
   ]
  },
  {
   "cell_type": "code",
   "execution_count": 46,
   "metadata": {},
   "outputs": [
    {
     "name": "stdout",
     "output_type": "stream",
     "text": [
      "Writing config.yaml\n"
     ]
    }
   ],
   "source": [
    "%%writefile config.yaml\n",
    "gateway:\n",
    "    proxyToken: \"3beeb083391169fc6cfa2762862d0c1d05638ed7baaf9df9aa546e85731fc730\""
   ]
  },
  {
   "cell_type": "code",
   "execution_count": 51,
   "metadata": {},
   "outputs": [
    {
     "data": {
      "text/plain": [
       "'RELEASE=dask-gateway\\nNAMESPACE=dask-gateway\\nVERSION=0.6.1\\n\\nhelm upgrade --install     --namespace $NAMESPACE     --version $VERSION     --values config.yaml     $RELEASE     dask-gateway/dask-gateway\\n'"
      ]
     },
     "execution_count": 51,
     "metadata": {},
     "output_type": "execute_result"
    }
   ],
   "source": [
    "cmd = \"\"\"RELEASE=dask-gateway\n",
    "NAMESPACE=dask-gateway\n",
    "VERSION=0.6.1\n",
    "\n",
    "helm upgrade --install \\\n",
    "    --namespace $NAMESPACE \\\n",
    "    --version $VERSION \\\n",
    "    --values config.yaml \\\n",
    "    $RELEASE \\\n",
    "    dask-gateway/dask-gateway\n",
    "\"\"\"\n",
    "\n",
    "cmd"
   ]
  },
  {
   "cell_type": "code",
   "execution_count": 52,
   "metadata": {},
   "outputs": [
    {
     "data": {
      "text/plain": [
       "0"
      ]
     },
     "execution_count": 52,
     "metadata": {},
     "output_type": "execute_result"
    }
   ],
   "source": [
    "os.system(cmd)"
   ]
  },
  {
   "cell_type": "code",
   "execution_count": 56,
   "metadata": {},
   "outputs": [
    {
     "name": "stdout",
     "output_type": "stream",
     "text": [
      "NAME                            TYPE           CLUSTER-IP     EXTERNAL-IP      PORT(S)          AGE\n",
      "gateway-api-dask-gateway        ClusterIP      10.0.75.163    <none>           8001/TCP         2m35s\n",
      "scheduler-api-dask-gateway      ClusterIP      10.0.240.33    <none>           8001/TCP         2m35s\n",
      "scheduler-public-dask-gateway   LoadBalancer   10.0.180.252   52.156.150.215   8786:32738/TCP   2m35s\n",
      "web-api-dask-gateway            ClusterIP      10.0.31.94     <none>           8001/TCP         2m35s\n",
      "web-public-dask-gateway         LoadBalancer   10.0.209.90    40.91.78.219     80:31338/TCP     2m35s\n"
     ]
    }
   ],
   "source": [
    "!kubectl get service --namespace dask-gateway"
   ]
  },
  {
   "cell_type": "code",
   "execution_count": 55,
   "metadata": {},
   "outputs": [],
   "source": [
    "from dask_gateway import Gateway"
   ]
  },
  {
   "cell_type": "code",
   "execution_count": 57,
   "metadata": {},
   "outputs": [],
   "source": [
    "gateway = Gateway('http://40.91.78.219', proxy_address='tls://52.156.150.215:8786')"
   ]
  },
  {
   "cell_type": "code",
   "execution_count": 58,
   "metadata": {},
   "outputs": [
    {
     "data": {
      "text/plain": [
       "[]"
      ]
     },
     "execution_count": 58,
     "metadata": {},
     "output_type": "execute_result"
    }
   ],
   "source": [
    "gateway.list_clusters()"
   ]
  },
  {
   "cell_type": "code",
   "execution_count": 60,
   "metadata": {},
   "outputs": [],
   "source": [
    "cluster = gateway.new_cluster()"
   ]
  },
  {
   "cell_type": "code",
   "execution_count": 92,
   "metadata": {},
   "outputs": [
    {
     "data": {
      "application/vnd.jupyter.widget-view+json": {
       "model_id": "924331a2df7b4b0abf5a38a6e2715ac5",
       "version_major": 2,
       "version_minor": 0
      },
      "text/plain": [
       "VBox(children=(HTML(value='<h2>GatewayCluster</h2>'), HBox(children=(HTML(value='\\n<div>\\n<style scoped>\\n    …"
      ]
     },
     "metadata": {},
     "output_type": "display_data"
    }
   ],
   "source": [
    "cluster"
   ]
  },
  {
   "cell_type": "code",
   "execution_count": 93,
   "metadata": {},
   "outputs": [
    {
     "ename": "OSError",
     "evalue": "Timed out trying to connect to 'gateway://52.156.150.215:8786/48670c72b0b74d958b452a50c10dffad' after 10 s: Timed out trying to connect to 'gateway://52.156.150.215:8786/48670c72b0b74d958b452a50c10dffad' after 10 s: connect() didn't finish in time",
     "output_type": "error",
     "traceback": [
      "\u001b[0;31m---------------------------------------------------------------------------\u001b[0m",
      "\u001b[0;31mOSError\u001b[0m                                   Traceback (most recent call last)",
      "\u001b[0;32m/anaconda/envs/azureml_py36/lib/python3.6/site-packages/distributed/comm/core.py\u001b[0m in \u001b[0;36mconnect\u001b[0;34m(addr, timeout, deserialize, connection_args)\u001b[0m\n\u001b[1;32m    220\u001b[0m             \u001b[0;32mif\u001b[0m \u001b[0;32mnot\u001b[0m \u001b[0mcomm\u001b[0m\u001b[0;34m:\u001b[0m\u001b[0;34m\u001b[0m\u001b[0;34m\u001b[0m\u001b[0m\n\u001b[0;32m--> 221\u001b[0;31m                 \u001b[0m_raise\u001b[0m\u001b[0;34m(\u001b[0m\u001b[0merror\u001b[0m\u001b[0;34m)\u001b[0m\u001b[0;34m\u001b[0m\u001b[0;34m\u001b[0m\u001b[0m\n\u001b[0m\u001b[1;32m    222\u001b[0m         \u001b[0;32mexcept\u001b[0m \u001b[0mFatalCommClosedError\u001b[0m\u001b[0;34m:\u001b[0m\u001b[0;34m\u001b[0m\u001b[0;34m\u001b[0m\u001b[0m\n",
      "\u001b[0;32m/anaconda/envs/azureml_py36/lib/python3.6/site-packages/distributed/comm/core.py\u001b[0m in \u001b[0;36m_raise\u001b[0;34m(error)\u001b[0m\n\u001b[1;32m    203\u001b[0m         )\n\u001b[0;32m--> 204\u001b[0;31m         \u001b[0;32mraise\u001b[0m \u001b[0mIOError\u001b[0m\u001b[0;34m(\u001b[0m\u001b[0mmsg\u001b[0m\u001b[0;34m)\u001b[0m\u001b[0;34m\u001b[0m\u001b[0;34m\u001b[0m\u001b[0m\n\u001b[0m\u001b[1;32m    205\u001b[0m \u001b[0;34m\u001b[0m\u001b[0m\n",
      "\u001b[0;31mOSError\u001b[0m: Timed out trying to connect to 'gateway://52.156.150.215:8786/48670c72b0b74d958b452a50c10dffad' after 10 s: connect() didn't finish in time",
      "\nDuring handling of the above exception, another exception occurred:\n",
      "\u001b[0;31mOSError\u001b[0m                                   Traceback (most recent call last)",
      "\u001b[0;32m<ipython-input-93-c8a820cd10cf>\u001b[0m in \u001b[0;36m<module>\u001b[0;34m\u001b[0m\n\u001b[0;32m----> 1\u001b[0;31m \u001b[0mc\u001b[0m \u001b[0;34m=\u001b[0m \u001b[0mcluster\u001b[0m\u001b[0;34m.\u001b[0m\u001b[0mget_client\u001b[0m\u001b[0;34m(\u001b[0m\u001b[0;34m)\u001b[0m\u001b[0;34m\u001b[0m\u001b[0;34m\u001b[0m\u001b[0m\n\u001b[0m\u001b[1;32m      2\u001b[0m \u001b[0mc\u001b[0m\u001b[0;34m\u001b[0m\u001b[0;34m\u001b[0m\u001b[0m\n",
      "\u001b[0;32m/anaconda/envs/azureml_py36/lib/python3.6/site-packages/dask_gateway/client.py\u001b[0m in \u001b[0;36mget_client\u001b[0;34m(self, set_as_default)\u001b[0m\n\u001b[1;32m   1003\u001b[0m             \u001b[0mset_as_default\u001b[0m\u001b[0;34m=\u001b[0m\u001b[0mset_as_default\u001b[0m\u001b[0;34m,\u001b[0m\u001b[0;34m\u001b[0m\u001b[0;34m\u001b[0m\u001b[0m\n\u001b[1;32m   1004\u001b[0m             \u001b[0masynchronous\u001b[0m\u001b[0;34m=\u001b[0m\u001b[0mself\u001b[0m\u001b[0;34m.\u001b[0m\u001b[0masynchronous\u001b[0m\u001b[0;34m,\u001b[0m\u001b[0;34m\u001b[0m\u001b[0;34m\u001b[0m\u001b[0m\n\u001b[0;32m-> 1005\u001b[0;31m             \u001b[0mloop\u001b[0m\u001b[0;34m=\u001b[0m\u001b[0mself\u001b[0m\u001b[0;34m.\u001b[0m\u001b[0mloop\u001b[0m\u001b[0;34m,\u001b[0m\u001b[0;34m\u001b[0m\u001b[0;34m\u001b[0m\u001b[0m\n\u001b[0m\u001b[1;32m   1006\u001b[0m         )\n\u001b[1;32m   1007\u001b[0m         \u001b[0;32mif\u001b[0m \u001b[0;32mnot\u001b[0m \u001b[0mself\u001b[0m\u001b[0;34m.\u001b[0m\u001b[0masynchronous\u001b[0m\u001b[0;34m:\u001b[0m\u001b[0;34m\u001b[0m\u001b[0;34m\u001b[0m\u001b[0m\n",
      "\u001b[0;32m/anaconda/envs/azureml_py36/lib/python3.6/site-packages/distributed/client.py\u001b[0m in \u001b[0;36m__init__\u001b[0;34m(self, address, loop, timeout, set_as_default, scheduler_file, security, asynchronous, name, heartbeat_interval, serializers, deserializers, extensions, direct_to_workers, **kwargs)\u001b[0m\n\u001b[1;32m    713\u001b[0m             \u001b[0mext\u001b[0m\u001b[0;34m(\u001b[0m\u001b[0mself\u001b[0m\u001b[0;34m)\u001b[0m\u001b[0;34m\u001b[0m\u001b[0;34m\u001b[0m\u001b[0m\n\u001b[1;32m    714\u001b[0m \u001b[0;34m\u001b[0m\u001b[0m\n\u001b[0;32m--> 715\u001b[0;31m         \u001b[0mself\u001b[0m\u001b[0;34m.\u001b[0m\u001b[0mstart\u001b[0m\u001b[0;34m(\u001b[0m\u001b[0mtimeout\u001b[0m\u001b[0;34m=\u001b[0m\u001b[0mtimeout\u001b[0m\u001b[0;34m)\u001b[0m\u001b[0;34m\u001b[0m\u001b[0;34m\u001b[0m\u001b[0m\n\u001b[0m\u001b[1;32m    716\u001b[0m         \u001b[0mClient\u001b[0m\u001b[0;34m.\u001b[0m\u001b[0m_instances\u001b[0m\u001b[0;34m.\u001b[0m\u001b[0madd\u001b[0m\u001b[0;34m(\u001b[0m\u001b[0mself\u001b[0m\u001b[0;34m)\u001b[0m\u001b[0;34m\u001b[0m\u001b[0;34m\u001b[0m\u001b[0m\n\u001b[1;32m    717\u001b[0m \u001b[0;34m\u001b[0m\u001b[0m\n",
      "\u001b[0;32m/anaconda/envs/azureml_py36/lib/python3.6/site-packages/distributed/client.py\u001b[0m in \u001b[0;36mstart\u001b[0;34m(self, **kwargs)\u001b[0m\n\u001b[1;32m    878\u001b[0m             \u001b[0mself\u001b[0m\u001b[0;34m.\u001b[0m\u001b[0m_started\u001b[0m \u001b[0;34m=\u001b[0m \u001b[0masyncio\u001b[0m\u001b[0;34m.\u001b[0m\u001b[0mensure_future\u001b[0m\u001b[0;34m(\u001b[0m\u001b[0mself\u001b[0m\u001b[0;34m.\u001b[0m\u001b[0m_start\u001b[0m\u001b[0;34m(\u001b[0m\u001b[0;34m**\u001b[0m\u001b[0mkwargs\u001b[0m\u001b[0;34m)\u001b[0m\u001b[0;34m)\u001b[0m\u001b[0;34m\u001b[0m\u001b[0;34m\u001b[0m\u001b[0m\n\u001b[1;32m    879\u001b[0m         \u001b[0;32melse\u001b[0m\u001b[0;34m:\u001b[0m\u001b[0;34m\u001b[0m\u001b[0;34m\u001b[0m\u001b[0m\n\u001b[0;32m--> 880\u001b[0;31m             \u001b[0msync\u001b[0m\u001b[0;34m(\u001b[0m\u001b[0mself\u001b[0m\u001b[0;34m.\u001b[0m\u001b[0mloop\u001b[0m\u001b[0;34m,\u001b[0m \u001b[0mself\u001b[0m\u001b[0;34m.\u001b[0m\u001b[0m_start\u001b[0m\u001b[0;34m,\u001b[0m \u001b[0;34m**\u001b[0m\u001b[0mkwargs\u001b[0m\u001b[0;34m)\u001b[0m\u001b[0;34m\u001b[0m\u001b[0;34m\u001b[0m\u001b[0m\n\u001b[0m\u001b[1;32m    881\u001b[0m \u001b[0;34m\u001b[0m\u001b[0m\n\u001b[1;32m    882\u001b[0m     \u001b[0;32mdef\u001b[0m \u001b[0m__await__\u001b[0m\u001b[0;34m(\u001b[0m\u001b[0mself\u001b[0m\u001b[0;34m)\u001b[0m\u001b[0;34m:\u001b[0m\u001b[0;34m\u001b[0m\u001b[0;34m\u001b[0m\u001b[0m\n",
      "\u001b[0;32m/anaconda/envs/azureml_py36/lib/python3.6/site-packages/distributed/utils.py\u001b[0m in \u001b[0;36msync\u001b[0;34m(loop, func, callback_timeout, *args, **kwargs)\u001b[0m\n\u001b[1;32m    331\u001b[0m     \u001b[0;32mif\u001b[0m \u001b[0merror\u001b[0m\u001b[0;34m[\u001b[0m\u001b[0;36m0\u001b[0m\u001b[0;34m]\u001b[0m\u001b[0;34m:\u001b[0m\u001b[0;34m\u001b[0m\u001b[0;34m\u001b[0m\u001b[0m\n\u001b[1;32m    332\u001b[0m         \u001b[0mtyp\u001b[0m\u001b[0;34m,\u001b[0m \u001b[0mexc\u001b[0m\u001b[0;34m,\u001b[0m \u001b[0mtb\u001b[0m \u001b[0;34m=\u001b[0m \u001b[0merror\u001b[0m\u001b[0;34m[\u001b[0m\u001b[0;36m0\u001b[0m\u001b[0;34m]\u001b[0m\u001b[0;34m\u001b[0m\u001b[0;34m\u001b[0m\u001b[0m\n\u001b[0;32m--> 333\u001b[0;31m         \u001b[0;32mraise\u001b[0m \u001b[0mexc\u001b[0m\u001b[0;34m.\u001b[0m\u001b[0mwith_traceback\u001b[0m\u001b[0;34m(\u001b[0m\u001b[0mtb\u001b[0m\u001b[0;34m)\u001b[0m\u001b[0;34m\u001b[0m\u001b[0;34m\u001b[0m\u001b[0m\n\u001b[0m\u001b[1;32m    334\u001b[0m     \u001b[0;32melse\u001b[0m\u001b[0;34m:\u001b[0m\u001b[0;34m\u001b[0m\u001b[0;34m\u001b[0m\u001b[0m\n\u001b[1;32m    335\u001b[0m         \u001b[0;32mreturn\u001b[0m \u001b[0mresult\u001b[0m\u001b[0;34m[\u001b[0m\u001b[0;36m0\u001b[0m\u001b[0;34m]\u001b[0m\u001b[0;34m\u001b[0m\u001b[0;34m\u001b[0m\u001b[0m\n",
      "\u001b[0;32m/anaconda/envs/azureml_py36/lib/python3.6/site-packages/distributed/utils.py\u001b[0m in \u001b[0;36mf\u001b[0;34m()\u001b[0m\n\u001b[1;32m    315\u001b[0m             \u001b[0;32mif\u001b[0m \u001b[0mcallback_timeout\u001b[0m \u001b[0;32mis\u001b[0m \u001b[0;32mnot\u001b[0m \u001b[0;32mNone\u001b[0m\u001b[0;34m:\u001b[0m\u001b[0;34m\u001b[0m\u001b[0;34m\u001b[0m\u001b[0m\n\u001b[1;32m    316\u001b[0m                 \u001b[0mfuture\u001b[0m \u001b[0;34m=\u001b[0m \u001b[0mgen\u001b[0m\u001b[0;34m.\u001b[0m\u001b[0mwith_timeout\u001b[0m\u001b[0;34m(\u001b[0m\u001b[0mtimedelta\u001b[0m\u001b[0;34m(\u001b[0m\u001b[0mseconds\u001b[0m\u001b[0;34m=\u001b[0m\u001b[0mcallback_timeout\u001b[0m\u001b[0;34m)\u001b[0m\u001b[0;34m,\u001b[0m \u001b[0mfuture\u001b[0m\u001b[0;34m)\u001b[0m\u001b[0;34m\u001b[0m\u001b[0;34m\u001b[0m\u001b[0m\n\u001b[0;32m--> 317\u001b[0;31m             \u001b[0mresult\u001b[0m\u001b[0;34m[\u001b[0m\u001b[0;36m0\u001b[0m\u001b[0;34m]\u001b[0m \u001b[0;34m=\u001b[0m \u001b[0;32myield\u001b[0m \u001b[0mfuture\u001b[0m\u001b[0;34m\u001b[0m\u001b[0;34m\u001b[0m\u001b[0m\n\u001b[0m\u001b[1;32m    318\u001b[0m         \u001b[0;32mexcept\u001b[0m \u001b[0mException\u001b[0m \u001b[0;32mas\u001b[0m \u001b[0mexc\u001b[0m\u001b[0;34m:\u001b[0m\u001b[0;34m\u001b[0m\u001b[0;34m\u001b[0m\u001b[0m\n\u001b[1;32m    319\u001b[0m             \u001b[0merror\u001b[0m\u001b[0;34m[\u001b[0m\u001b[0;36m0\u001b[0m\u001b[0;34m]\u001b[0m \u001b[0;34m=\u001b[0m \u001b[0msys\u001b[0m\u001b[0;34m.\u001b[0m\u001b[0mexc_info\u001b[0m\u001b[0;34m(\u001b[0m\u001b[0;34m)\u001b[0m\u001b[0;34m\u001b[0m\u001b[0;34m\u001b[0m\u001b[0m\n",
      "\u001b[0;32m/anaconda/envs/azureml_py36/lib/python3.6/site-packages/tornado/gen.py\u001b[0m in \u001b[0;36mrun\u001b[0;34m(self)\u001b[0m\n\u001b[1;32m    733\u001b[0m \u001b[0;34m\u001b[0m\u001b[0m\n\u001b[1;32m    734\u001b[0m                     \u001b[0;32mtry\u001b[0m\u001b[0;34m:\u001b[0m\u001b[0;34m\u001b[0m\u001b[0;34m\u001b[0m\u001b[0m\n\u001b[0;32m--> 735\u001b[0;31m                         \u001b[0mvalue\u001b[0m \u001b[0;34m=\u001b[0m \u001b[0mfuture\u001b[0m\u001b[0;34m.\u001b[0m\u001b[0mresult\u001b[0m\u001b[0;34m(\u001b[0m\u001b[0;34m)\u001b[0m\u001b[0;34m\u001b[0m\u001b[0;34m\u001b[0m\u001b[0m\n\u001b[0m\u001b[1;32m    736\u001b[0m                     \u001b[0;32mexcept\u001b[0m \u001b[0mException\u001b[0m\u001b[0;34m:\u001b[0m\u001b[0;34m\u001b[0m\u001b[0;34m\u001b[0m\u001b[0m\n\u001b[1;32m    737\u001b[0m                         \u001b[0mexc_info\u001b[0m \u001b[0;34m=\u001b[0m \u001b[0msys\u001b[0m\u001b[0;34m.\u001b[0m\u001b[0mexc_info\u001b[0m\u001b[0;34m(\u001b[0m\u001b[0;34m)\u001b[0m\u001b[0;34m\u001b[0m\u001b[0;34m\u001b[0m\u001b[0m\n",
      "\u001b[0;32m/anaconda/envs/azureml_py36/lib/python3.6/site-packages/distributed/client.py\u001b[0m in \u001b[0;36m_start\u001b[0;34m(self, timeout, **kwargs)\u001b[0m\n\u001b[1;32m    971\u001b[0m \u001b[0;34m\u001b[0m\u001b[0m\n\u001b[1;32m    972\u001b[0m         \u001b[0;32mtry\u001b[0m\u001b[0;34m:\u001b[0m\u001b[0;34m\u001b[0m\u001b[0;34m\u001b[0m\u001b[0m\n\u001b[0;32m--> 973\u001b[0;31m             \u001b[0mawait\u001b[0m \u001b[0mself\u001b[0m\u001b[0;34m.\u001b[0m\u001b[0m_ensure_connected\u001b[0m\u001b[0;34m(\u001b[0m\u001b[0mtimeout\u001b[0m\u001b[0;34m=\u001b[0m\u001b[0mtimeout\u001b[0m\u001b[0;34m)\u001b[0m\u001b[0;34m\u001b[0m\u001b[0;34m\u001b[0m\u001b[0m\n\u001b[0m\u001b[1;32m    974\u001b[0m         \u001b[0;32mexcept\u001b[0m \u001b[0mOSError\u001b[0m\u001b[0;34m:\u001b[0m\u001b[0;34m\u001b[0m\u001b[0;34m\u001b[0m\u001b[0m\n\u001b[1;32m    975\u001b[0m             \u001b[0mawait\u001b[0m \u001b[0mself\u001b[0m\u001b[0;34m.\u001b[0m\u001b[0m_close\u001b[0m\u001b[0;34m(\u001b[0m\u001b[0;34m)\u001b[0m\u001b[0;34m\u001b[0m\u001b[0;34m\u001b[0m\u001b[0m\n",
      "\u001b[0;32m/anaconda/envs/azureml_py36/lib/python3.6/site-packages/distributed/client.py\u001b[0m in \u001b[0;36m_ensure_connected\u001b[0;34m(self, timeout)\u001b[0m\n\u001b[1;32m   1028\u001b[0m                 \u001b[0mself\u001b[0m\u001b[0;34m.\u001b[0m\u001b[0mscheduler\u001b[0m\u001b[0;34m.\u001b[0m\u001b[0maddress\u001b[0m\u001b[0;34m,\u001b[0m\u001b[0;34m\u001b[0m\u001b[0;34m\u001b[0m\u001b[0m\n\u001b[1;32m   1029\u001b[0m                 \u001b[0mtimeout\u001b[0m\u001b[0;34m=\u001b[0m\u001b[0mtimeout\u001b[0m\u001b[0;34m,\u001b[0m\u001b[0;34m\u001b[0m\u001b[0;34m\u001b[0m\u001b[0m\n\u001b[0;32m-> 1030\u001b[0;31m                 \u001b[0mconnection_args\u001b[0m\u001b[0;34m=\u001b[0m\u001b[0mself\u001b[0m\u001b[0;34m.\u001b[0m\u001b[0mconnection_args\u001b[0m\u001b[0;34m,\u001b[0m\u001b[0;34m\u001b[0m\u001b[0;34m\u001b[0m\u001b[0m\n\u001b[0m\u001b[1;32m   1031\u001b[0m             )\n\u001b[1;32m   1032\u001b[0m             \u001b[0mcomm\u001b[0m\u001b[0;34m.\u001b[0m\u001b[0mname\u001b[0m \u001b[0;34m=\u001b[0m \u001b[0;34m\"Client->Scheduler\"\u001b[0m\u001b[0;34m\u001b[0m\u001b[0;34m\u001b[0m\u001b[0m\n",
      "\u001b[0;32m/anaconda/envs/azureml_py36/lib/python3.6/site-packages/distributed/comm/core.py\u001b[0m in \u001b[0;36mconnect\u001b[0;34m(addr, timeout, deserialize, connection_args)\u001b[0m\n\u001b[1;32m    228\u001b[0m                 \u001b[0mlogger\u001b[0m\u001b[0;34m.\u001b[0m\u001b[0mdebug\u001b[0m\u001b[0;34m(\u001b[0m\u001b[0;34m\"sleeping on connect\"\u001b[0m\u001b[0;34m)\u001b[0m\u001b[0;34m\u001b[0m\u001b[0;34m\u001b[0m\u001b[0m\n\u001b[1;32m    229\u001b[0m             \u001b[0;32melse\u001b[0m\u001b[0;34m:\u001b[0m\u001b[0;34m\u001b[0m\u001b[0;34m\u001b[0m\u001b[0m\n\u001b[0;32m--> 230\u001b[0;31m                 \u001b[0m_raise\u001b[0m\u001b[0;34m(\u001b[0m\u001b[0merror\u001b[0m\u001b[0;34m)\u001b[0m\u001b[0;34m\u001b[0m\u001b[0;34m\u001b[0m\u001b[0m\n\u001b[0m\u001b[1;32m    231\u001b[0m         \u001b[0;32melse\u001b[0m\u001b[0;34m:\u001b[0m\u001b[0;34m\u001b[0m\u001b[0;34m\u001b[0m\u001b[0m\n\u001b[1;32m    232\u001b[0m             \u001b[0;32mbreak\u001b[0m\u001b[0;34m\u001b[0m\u001b[0;34m\u001b[0m\u001b[0m\n",
      "\u001b[0;32m/anaconda/envs/azureml_py36/lib/python3.6/site-packages/distributed/comm/core.py\u001b[0m in \u001b[0;36m_raise\u001b[0;34m(error)\u001b[0m\n\u001b[1;32m    202\u001b[0m             \u001b[0merror\u001b[0m\u001b[0;34m,\u001b[0m\u001b[0;34m\u001b[0m\u001b[0;34m\u001b[0m\u001b[0m\n\u001b[1;32m    203\u001b[0m         )\n\u001b[0;32m--> 204\u001b[0;31m         \u001b[0;32mraise\u001b[0m \u001b[0mIOError\u001b[0m\u001b[0;34m(\u001b[0m\u001b[0mmsg\u001b[0m\u001b[0;34m)\u001b[0m\u001b[0;34m\u001b[0m\u001b[0;34m\u001b[0m\u001b[0m\n\u001b[0m\u001b[1;32m    205\u001b[0m \u001b[0;34m\u001b[0m\u001b[0m\n\u001b[1;32m    206\u001b[0m     \u001b[0;31m# This starts a thread\u001b[0m\u001b[0;34m\u001b[0m\u001b[0;34m\u001b[0m\u001b[0;34m\u001b[0m\u001b[0m\n",
      "\u001b[0;31mOSError\u001b[0m: Timed out trying to connect to 'gateway://52.156.150.215:8786/48670c72b0b74d958b452a50c10dffad' after 10 s: Timed out trying to connect to 'gateway://52.156.150.215:8786/48670c72b0b74d958b452a50c10dffad' after 10 s: connect() didn't finish in time"
     ]
    }
   ],
   "source": [
    "c = cluster.get_client()\n",
    "c"
   ]
  },
  {
   "cell_type": "code",
   "execution_count": 86,
   "metadata": {},
   "outputs": [],
   "source": [
    "options = gateway.cluster_options()"
   ]
  },
  {
   "cell_type": "code",
   "execution_count": 87,
   "metadata": {},
   "outputs": [],
   "source": [
    "import dask"
   ]
  },
  {
   "cell_type": "code",
   "execution_count": 88,
   "metadata": {},
   "outputs": [],
   "source": [
    "@dask.delayed\n",
    "def testing():\n",
    "    return 'hi'"
   ]
  },
  {
   "cell_type": "code",
   "execution_count": 89,
   "metadata": {},
   "outputs": [
    {
     "data": {
      "text/plain": [
       "'hi'"
      ]
     },
     "execution_count": 89,
     "metadata": {},
     "output_type": "execute_result"
    }
   ],
   "source": [
    "testing().compute()"
   ]
  },
  {
   "cell_type": "code",
   "execution_count": 90,
   "metadata": {},
   "outputs": [],
   "source": [
    "cluster.shutdown()"
   ]
  },
  {
   "cell_type": "code",
   "execution_count": null,
   "metadata": {},
   "outputs": [
    {
     "name": "stdout",
     "output_type": "stream",
     "text": [
      "\u001b[K - Running ...\r"
     ]
    }
   ],
   "source": [
    "!az group delete -n $RG --no-wait -y"
   ]
  },
  {
   "cell_type": "code",
   "execution_count": null,
   "metadata": {},
   "outputs": [],
   "source": []
  },
  {
   "cell_type": "code",
   "execution_count": null,
   "metadata": {},
   "outputs": [],
   "source": []
  },
  {
   "cell_type": "code",
   "execution_count": null,
   "metadata": {},
   "outputs": [],
   "source": []
  },
  {
   "cell_type": "code",
   "execution_count": null,
   "metadata": {},
   "outputs": [],
   "source": []
  },
  {
   "cell_type": "code",
   "execution_count": null,
   "metadata": {},
   "outputs": [],
   "source": []
  },
  {
   "cell_type": "code",
   "execution_count": 59,
   "metadata": {},
   "outputs": [],
   "source": [
    "from dask_kubernetes import KubeCluster, make_pod_spec"
   ]
  },
  {
   "cell_type": "code",
   "execution_count": null,
   "metadata": {},
   "outputs": [],
   "source": [
    "pod_spec = make_pod_spec(image='daskdev/dask:latest',\n",
    "                          memory_limit='1G', memory_request='1G',\n",
    "                          cpu_limit=1, cpu_request=1,\n",
    "                          env={'EXTRA_PIP_PACKAGES': 'dask-lightgbm'}\n",
    "                        ) "
   ]
  },
  {
   "cell_type": "code",
   "execution_count": null,
   "metadata": {},
   "outputs": [],
   "source": [
    "cluster = KubeCluster(pod_spec)"
   ]
  },
  {
   "cell_type": "code",
   "execution_count": null,
   "metadata": {},
   "outputs": [],
   "source": [
    "cluster"
   ]
  },
  {
   "cell_type": "code",
   "execution_count": null,
   "metadata": {},
   "outputs": [],
   "source": [
    "cluster.scale(10)"
   ]
  },
  {
   "cell_type": "code",
   "execution_count": null,
   "metadata": {},
   "outputs": [],
   "source": [
    "from dask.distributed import Client"
   ]
  },
  {
   "cell_type": "code",
   "execution_count": null,
   "metadata": {},
   "outputs": [],
   "source": [
    "c = Client(cluster)"
   ]
  },
  {
   "cell_type": "code",
   "execution_count": null,
   "metadata": {},
   "outputs": [],
   "source": [
    "c"
   ]
  },
  {
   "cell_type": "code",
   "execution_count": null,
   "metadata": {},
   "outputs": [],
   "source": [
    "c.get_versions(check=True)"
   ]
  },
  {
   "cell_type": "code",
   "execution_count": null,
   "metadata": {},
   "outputs": [],
   "source": [
    "import dask"
   ]
  },
  {
   "cell_type": "code",
   "execution_count": null,
   "metadata": {},
   "outputs": [],
   "source": [
    "@dask.delayed\n",
    "def testing():\n",
    "    print('hi')"
   ]
  },
  {
   "cell_type": "code",
   "execution_count": null,
   "metadata": {},
   "outputs": [],
   "source": [
    "testing().compute()"
   ]
  },
  {
   "cell_type": "code",
   "execution_count": null,
   "metadata": {},
   "outputs": [],
   "source": [
    "cluster.close()"
   ]
  }
 ],
 "metadata": {
  "kernelspec": {
   "display_name": "Python 3.6 - AzureML",
   "language": "python",
   "name": "python3-azureml"
  },
  "language_info": {
   "codemirror_mode": {
    "name": "ipython",
    "version": 3
   },
   "file_extension": ".py",
   "mimetype": "text/x-python",
   "name": "python",
   "nbconvert_exporter": "python",
   "pygments_lexer": "ipython3",
   "version": "3.6.9"
  }
 },
 "nbformat": 4,
 "nbformat_minor": 4
}
