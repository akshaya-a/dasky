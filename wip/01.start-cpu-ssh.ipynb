{
 "cells": [
  {
   "cell_type": "markdown",
   "metadata": {},
   "source": [
    "# Start Interactive Dask Cluster"
   ]
  },
  {
   "cell_type": "code",
   "execution_count": null,
   "metadata": {},
   "outputs": [],
   "source": [
    "pip install --upgrade git+https://github.com/drabastomek/dask-cloudprovider"
   ]
  },
  {
   "cell_type": "markdown",
   "metadata": {},
   "source": [
    "**RESTART YOUR KERNEL**"
   ]
  },
  {
   "cell_type": "markdown",
   "metadata": {},
   "source": [
    "## Imports\n",
    "\n",
    "Import all packages used in this notebook."
   ]
  },
  {
   "cell_type": "code",
   "execution_count": 1,
   "metadata": {},
   "outputs": [],
   "source": [
    "from os import chmod\n",
    "from Crypto.PublicKey import RSA\n",
    "\n",
    "key = RSA.generate(2048)\n",
    "with open(\"private.key\", 'wb') as content_file:\n",
    "    content_file.write(key.exportKey('PEM'))\n",
    "pubkey = key.publickey()\n",
    "with open(\"public.key\", 'wb') as content_file:\n",
    "    content_file.write(pubkey.exportKey('OpenSSH'))"
   ]
  },
  {
   "cell_type": "code",
   "execution_count": 2,
   "metadata": {},
   "outputs": [],
   "source": [
    "import os\n",
    "\n",
    "from azureml.widgets import RunDetails\n",
    "from azureml.core.compute import ComputeTarget, AmlCompute\n",
    "from azureml.core import Workspace, Experiment, Datastore, Dataset, Environment"
   ]
  },
  {
   "cell_type": "markdown",
   "metadata": {},
   "source": [
    "## Azure ML setup\n",
    "\n",
    "Get the workspace."
   ]
  },
  {
   "cell_type": "code",
   "execution_count": 3,
   "metadata": {},
   "outputs": [
    {
     "data": {
      "text/plain": [
       "Workspace.create(name='AzureML-UKS', subscription_id='6560575d-fa06-4e7d-95fb-f962e74efd7a', resource_group='cody-training')"
      ]
     },
     "execution_count": 3,
     "metadata": {},
     "output_type": "execute_result"
    }
   ],
   "source": [
    "ws = Workspace.from_config()\n",
    "ws"
   ]
  },
  {
   "cell_type": "markdown",
   "metadata": {},
   "source": [
    "### Enter your name\n",
    "\n",
    "Enter your name and virtual network information."
   ]
  },
  {
   "cell_type": "code",
   "execution_count": 4,
   "metadata": {},
   "outputs": [
    {
     "name": "stdout",
     "output_type": "stream",
     "text": [
      "\n",
      "Name: cody3\n",
      "\n",
      "Compute target: cody3-ct\n",
      "\n"
     ]
    }
   ],
   "source": [
    "### name\n",
    "name        = 'cody3'             # replace or not to replace\n",
    "\n",
    "### azure ml names \n",
    "ct_name     = f'{name}-ct'       # replace if desired\n",
    "\n",
    "### trust but verify\n",
    "verify = f'''\n",
    "Name: {name}\n",
    "\n",
    "Compute target: {ct_name}\n",
    "'''\n",
    "\n",
    "print(verify)"
   ]
  },
  {
   "cell_type": "code",
   "execution_count": 5,
   "metadata": {},
   "outputs": [
    {
     "data": {
      "text/plain": [
       "'ssh-rsa AAAAB3NzaC1yc2EAAAADAQABAAABAQCDy8G38ZgjuDMwWcHxzStTGzQJanSCxrczyduGb0HobvOY4me7G7Wp4kBjpWb9VyClR2ou1vzI9GDOWuCRVav5PU8gc2Tws7lSXNCwcgvVOCHoFWpxaflnP8ESoXzpbE42joggriEgbmJeScsvVmyzqLtnSMlPbpkr4eOZk8P1Lhew7X1+SlOQurELm3cRaf8lq5mNKx54FDGI074/yQDRJL+FillmEpHdEgs2gQONaEvERr7cZr/IdCaW5v04A/hLT+Rz325mjpPRnpQwikqW+SMR5xd/6kB9KMDajIj6BoAIgsGQ+3lJvFmikOsRF4yY1sY9cihCKuwNlHp5yOsD'"
      ]
     },
     "execution_count": 5,
     "metadata": {},
     "output_type": "execute_result"
    }
   ],
   "source": [
    "with open('public.key', 'r') as f:\n",
    "    pubkey = f.read()\n",
    "    \n",
    "pubkey"
   ]
  },
  {
   "cell_type": "markdown",
   "metadata": {},
   "source": [
    "### Create VM pool\n",
    "\n",
    "Create Azure ML VM pool for creating remote dask cluster(s)."
   ]
  },
  {
   "cell_type": "code",
   "execution_count": 6,
   "metadata": {},
   "outputs": [
    {
     "name": "stdout",
     "output_type": "stream",
     "text": [
      "Creating\n",
      "Succeeded\n",
      "AmlCompute wait for completion finished\n",
      "\n",
      "Minimum number of nodes requested have been provisioned\n"
     ]
    },
    {
     "data": {
      "text/plain": [
       "AmlCompute(workspace=Workspace.create(name='AzureML-UKS', subscription_id='6560575d-fa06-4e7d-95fb-f962e74efd7a', resource_group='cody-training'), name=cody3-ct, id=/subscriptions/6560575d-fa06-4e7d-95fb-f962e74efd7a/resourceGroups/cody-training/providers/Microsoft.MachineLearningServices/workspaces/AzureML-UKS/computes/cody3-ct, type=AmlCompute, provisioning_state=Succeeded, location=uksouth, tags=None)"
      ]
     },
     "execution_count": 6,
     "metadata": {},
     "output_type": "execute_result"
    }
   ],
   "source": [
    "if ct_name not in ws.compute_targets:\n",
    "    # create config for Azure ML cluster\n",
    "    # change properties as needed\n",
    "    config = AmlCompute.provisioning_configuration(\n",
    "             vm_size                         = 'STANDARD_DS13_V2', # 8 core 56 GiB 112 SSD \n",
    "             min_nodes                       = 0,\n",
    "             max_nodes                       = 100,\n",
    "             admin_username                  = name,\n",
    "             admin_user_ssh_key              = pubkey,\n",
    "             remote_login_port_public_access = 'Enabled',\n",
    "             idle_seconds_before_scaledown   = 300\n",
    "    )\n",
    "    ct = ComputeTarget.create(ws, ct_name, config)\n",
    "    ct.wait_for_completion(show_output=True)    \n",
    "else:\n",
    "    ct = ws.compute_targets[ct_name]\n",
    "    \n",
    "ct"
   ]
  },
  {
   "cell_type": "markdown",
   "metadata": {},
   "source": [
    "### Mount Compute Instance code fileshare\n",
    "\n",
    "This will create the compute instance code fileshare as a datastore. The default name `code-391ff5ac-6576-460f-ba4d-7e03433c68b6` and has the same credentials as the default fileshare for the workspace. This will be mounted for easy access to notebooks on the cluster."
   ]
  },
  {
   "cell_type": "code",
   "execution_count": 7,
   "metadata": {},
   "outputs": [],
   "source": [
    "filesharename = 'codefileshare'\n",
    "\n",
    "if filesharename not in ws.datastores:\n",
    "    Datastore.register_azure_file_share(ws, filesharename,\n",
    "                                        'code-391ff5ac-6576-460f-ba4d-7e03433c68b6', # lol                    \n",
    "                                        account_name = ws.datastores['workspacefilestore'].account_name, \n",
    "                                        account_key  = ws.datastores['workspacefilestore'].account_key   \n",
    "                                       )"
   ]
  },
  {
   "cell_type": "markdown",
   "metadata": {},
   "source": [
    "### Get data\n",
    "\n",
    "This will get NOAA ISD Weather data which is used in the demo. If you already have data in Blob or ALDSv1v2 you want to use, skip this."
   ]
  },
  {
   "cell_type": "code",
   "execution_count": 8,
   "metadata": {},
   "outputs": [],
   "source": [
    "dsetdata = 'noaa-isd-files'\n",
    "data_url = 'https://azureopendatastorage.blob.core.windows.net/isdweatherdatacontainer/ISDWeather'\n",
    "\n",
    "if dsetdata not in ws.datasets:\n",
    "    os.system('sudo chmod 777 /mnt')\n",
    "    for year in range(2008, 2020+1):\n",
    "        ds = Dataset.File.from_files(f'{data_url}/year={year}/month=*/*.parquet', validate=False)\n",
    "        print('Downloading...')\n",
    "        %time ds.download(f'/mnt/data/isd/year={year}', overwrite=True)\n",
    "    print('Uploading...')\n",
    "    %time ws.get_default_datastore().upload('/mnt/data/isd', '/noaa-isd', show_progress=False)\n",
    "    ds = Dataset.File.from_files((ws.get_default_datastore(), '/noaa-isd/**/*.parquet'))\n",
    "    ds = ds.register(ws, dsetdata)"
   ]
  },
  {
   "cell_type": "markdown",
   "metadata": {},
   "source": [
    "### Start cluster"
   ]
  },
  {
   "cell_type": "code",
   "execution_count": 9,
   "metadata": {},
   "outputs": [],
   "source": [
    "from dask_cloudprovider import AzureMLCluster"
   ]
  },
  {
   "cell_type": "code",
   "execution_count": null,
   "metadata": {},
   "outputs": [
    {
     "name": "stdout",
     "output_type": "stream",
     "text": [
      "############################## Setting up cluster ##############################\n",
      "####################### Waiting for scheduler node's IP ########################\n",
      "..........................................................\n",
      "\n",
      "\n",
      "########################### Scheduler: 10.0.0.4:8786 ###########################\n"
     ]
    }
   ],
   "source": [
    "cluster = AzureMLCluster(ws, \n",
    "                         ct, \n",
    "                         ws.environments['AzureML-Dask-CPU'], \n",
    "                         jupyter=True, \n",
    "                         datastores=[ws.datastores[datastore] for datastore in ws.datastores],\n",
    "                         scheduler_idle_timeout=7200,\n",
    "                         admin_username=name,\n",
    "                         admin_ssh_key='private.key'\n",
    "                        )"
   ]
  },
  {
   "cell_type": "code",
   "execution_count": null,
   "metadata": {},
   "outputs": [],
   "source": [
    "cluster.run"
   ]
  },
  {
   "cell_type": "code",
   "execution_count": null,
   "metadata": {},
   "outputs": [],
   "source": [
    "cluster.scale(30) # need more than default quota for this "
   ]
  },
  {
   "cell_type": "code",
   "execution_count": null,
   "metadata": {},
   "outputs": [],
   "source": [
    "cluster"
   ]
  },
  {
   "cell_type": "code",
   "execution_count": null,
   "metadata": {},
   "outputs": [],
   "source": [
    "#from dask.distributed import Client\n",
    "#c = Client(cluster)"
   ]
  },
  {
   "cell_type": "code",
   "execution_count": null,
   "metadata": {},
   "outputs": [],
   "source": [
    "#cluster.close()"
   ]
  },
  {
   "cell_type": "code",
   "execution_count": null,
   "metadata": {},
   "outputs": [],
   "source": [
    "#help(AzureMLCluster)"
   ]
  }
 ],
 "metadata": {
  "kernelspec": {
   "display_name": "Python 3.6 - AzureML",
   "language": "python",
   "name": "python3-azureml"
  },
  "language_info": {
   "codemirror_mode": {
    "name": "ipython",
    "version": 3
   },
   "file_extension": ".py",
   "mimetype": "text/x-python",
   "name": "python",
   "nbconvert_exporter": "python",
   "pygments_lexer": "ipython3",
   "version": "3.6.9"
  }
 },
 "nbformat": 4,
 "nbformat_minor": 4
}
