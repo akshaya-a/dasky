{
 "cells": [
  {
   "cell_type": "markdown",
   "metadata": {},
   "source": [
    "## Connect to cluster"
   ]
  },
  {
   "cell_type": "code",
   "execution_count": 1,
   "metadata": {},
   "outputs": [],
   "source": [
    "import os\n",
    "import dask\n",
    "import time\n",
    "import joblib\n",
    "import fsspec\n",
    "\n",
    "import pandas as pd\n",
    "import dask.dataframe as dd\n",
    "\n",
    "from datetime import datetime\n",
    "from dask.distributed import Client\n",
    "\n",
    "from azureml.core import Run, Model"
   ]
  },
  {
   "cell_type": "code",
   "execution_count": 2,
   "metadata": {},
   "outputs": [
    {
     "data": {
      "text/html": [
       "<table style=\"width:100%\"><tr><th>Experiment</th><th>Id</th><th>Type</th><th>Status</th><th>Details Page</th><th>Docs Page</th></tr><tr><td>dask-cloudprovider</td><td>dask-cloudprovider_1584307902_4f5fe6b5</td><td>azureml.scriptrun</td><td>Running</td><td><a href=\"https://ml.azure.com/experiments/dask-cloudprovider/runs/dask-cloudprovider_1584307902_4f5fe6b5?wsid=/subscriptions/6560575d-fa06-4e7d-95fb-f962e74efd7a/resourcegroups/cody-eastus-rg/workspaces/azureml\" target=\"_blank\" rel=\"noopener\">Link to Azure Machine Learning studio</a></td><td><a href=\"https://docs.microsoft.com/en-us/python/api/azureml-core/azureml.core.run._SubmittedRun?view=azure-ml-py\" target=\"_blank\" rel=\"noopener\">Link to Documentation</a></td></tr></table>"
      ],
      "text/plain": [
       "Run(Experiment: dask-cloudprovider,\n",
       "Id: dask-cloudprovider_1584307902_4f5fe6b5,\n",
       "Type: azureml.scriptrun,\n",
       "Status: Running)"
      ]
     },
     "execution_count": 2,
     "metadata": {},
     "output_type": "execute_result"
    }
   ],
   "source": [
    "try:\n",
    "    run = Run.get_context()\n",
    "except:\n",
    "    print('Not in a run -- follow link from the cluster widget')\n",
    "    \n",
    "run"
   ]
  },
  {
   "cell_type": "code",
   "execution_count": 3,
   "metadata": {},
   "outputs": [
    {
     "data": {
      "text/html": [
       "<table style=\"border: 2px solid white;\">\n",
       "<tr>\n",
       "<td style=\"vertical-align: top; border: 0px solid white\">\n",
       "<h3 style=\"text-align: left;\">Client</h3>\n",
       "<ul style=\"text-align: left; list-style: none; margin: 0; padding: 0;\">\n",
       "  <li><b>Scheduler: </b>tcp://10.0.0.11:8786</li>\n",
       "  <li><b>Dashboard: </b><a href='http://10.0.0.11:8787/status' target='_blank'>http://10.0.0.11:8787/status</a>\n",
       "</ul>\n",
       "</td>\n",
       "<td style=\"vertical-align: top; border: 0px solid white\">\n",
       "<h3 style=\"text-align: left;\">Cluster</h3>\n",
       "<ul style=\"text-align: left; list-style:none; margin: 0; padding: 0;\">\n",
       "  <li><b>Workers: </b>39</li>\n",
       "  <li><b>Cores: </b>624</li>\n",
       "  <li><b>Memory: </b>4.61 TB</li>\n",
       "</ul>\n",
       "</td>\n",
       "</tr>\n",
       "</table>"
      ],
      "text/plain": [
       "<Client: 'tcp://10.0.0.11:8786' processes=39 threads=624, memory=4.61 TB>"
      ]
     },
     "execution_count": 3,
     "metadata": {},
     "output_type": "execute_result"
    }
   ],
   "source": [
    "c = Client(f'{run.get_metrics()[\"scheduler\"]}')\n",
    "c"
   ]
  },
  {
   "cell_type": "code",
   "execution_count": 4,
   "metadata": {},
   "outputs": [
    {
     "data": {
      "text/html": [
       "<table style=\"border: 2px solid white;\">\n",
       "<tr>\n",
       "<td style=\"vertical-align: top; border: 0px solid white\">\n",
       "<h3 style=\"text-align: left;\">Client</h3>\n",
       "<ul style=\"text-align: left; list-style: none; margin: 0; padding: 0;\">\n",
       "  <li><b>Scheduler: </b>tcp://10.0.0.11:8786</li>\n",
       "  <li><b>Dashboard: </b><a href='http://10.0.0.11:8787/status' target='_blank'>http://10.0.0.11:8787/status</a>\n",
       "</ul>\n",
       "</td>\n",
       "<td style=\"vertical-align: top; border: 0px solid white\">\n",
       "<h3 style=\"text-align: left;\">Cluster</h3>\n",
       "<ul style=\"text-align: left; list-style:none; margin: 0; padding: 0;\">\n",
       "  <li><b>Workers: </b>39</li>\n",
       "  <li><b>Cores: </b>624</li>\n",
       "  <li><b>Memory: </b>4.61 TB</li>\n",
       "</ul>\n",
       "</td>\n",
       "</tr>\n",
       "</table>"
      ],
      "text/plain": [
       "<Client: 'tcp://10.0.0.11:8786' processes=39 threads=624, memory=4.61 TB>"
      ]
     },
     "execution_count": 4,
     "metadata": {},
     "output_type": "execute_result"
    }
   ],
   "source": [
    "c.restart()"
   ]
  },
  {
   "cell_type": "markdown",
   "metadata": {},
   "source": [
    "## Read data\n",
    "\n",
    "Conveniently, the datastore is mounted so it can be viewed/operated on as if local. However, for reading into the distributed cluster, we will use ADLS's HDFS driver."
   ]
  },
  {
   "cell_type": "code",
   "execution_count": 5,
   "metadata": {},
   "outputs": [],
   "source": [
    "STORAGE_OPTIONS = {\n",
    "    'account_name': run.experiment.workspace.get_default_datastore().account_name,\n",
    "    'account_key' : run.experiment.workspace.get_default_datastore().account_key\n",
    "}\n",
    "\n",
    "protocol  = 'abfs' # change to 'adl' for gen 1\n",
    "container = run.experiment.workspace.get_default_datastore().container_name"
   ]
  },
  {
   "cell_type": "code",
   "execution_count": 6,
   "metadata": {},
   "outputs": [
    {
     "data": {
      "text/plain": [
       "'abfs://default/noaa-isd-csv/*-data.csv'"
      ]
     },
     "execution_count": 6,
     "metadata": {},
     "output_type": "execute_result"
    }
   ],
   "source": [
    "datapath  = f'{protocol}://{container}/noaa-isd-csv/*-data.csv'\n",
    "blocksize = '5GB'\n",
    "dtypes    = {'cloudCoverage': 'object', 'usaf': 'object'}\n",
    "\n",
    "datapath"
   ]
  },
  {
   "cell_type": "code",
   "execution_count": 7,
   "metadata": {},
   "outputs": [
    {
     "name": "stdout",
     "output_type": "stream",
     "text": [
      "CPU times: user 644 ms, sys: 40 ms, total: 684 ms\n",
      "Wall time: 1min 1s\n"
     ]
    },
    {
     "data": {
      "text/html": [
       "<div>\n",
       "<style scoped>\n",
       "    .dataframe tbody tr th:only-of-type {\n",
       "        vertical-align: middle;\n",
       "    }\n",
       "\n",
       "    .dataframe tbody tr th {\n",
       "        vertical-align: top;\n",
       "    }\n",
       "\n",
       "    .dataframe thead th {\n",
       "        text-align: right;\n",
       "    }\n",
       "</style>\n",
       "<table border=\"1\" class=\"dataframe\">\n",
       "  <thead>\n",
       "    <tr style=\"text-align: right;\">\n",
       "      <th></th>\n",
       "      <th>Unnamed: 0</th>\n",
       "      <th>usaf</th>\n",
       "      <th>wban</th>\n",
       "      <th>datetime</th>\n",
       "      <th>latitude</th>\n",
       "      <th>longitude</th>\n",
       "      <th>elevation</th>\n",
       "      <th>windAngle</th>\n",
       "      <th>windSpeed</th>\n",
       "      <th>temperature</th>\n",
       "      <th>...</th>\n",
       "      <th>pastWeatherIndicator</th>\n",
       "      <th>precipTime</th>\n",
       "      <th>precipDepth</th>\n",
       "      <th>snowDepth</th>\n",
       "      <th>stationName</th>\n",
       "      <th>countryOrRegion</th>\n",
       "      <th>p_k</th>\n",
       "      <th>year</th>\n",
       "      <th>day</th>\n",
       "      <th>version</th>\n",
       "    </tr>\n",
       "  </thead>\n",
       "  <tbody>\n",
       "    <tr>\n",
       "      <th>0</th>\n",
       "      <td>2008-01-10</td>\n",
       "      <td>999999</td>\n",
       "      <td>53878</td>\n",
       "      <td>2008-01-10 18:30:00</td>\n",
       "      <td>35.419</td>\n",
       "      <td>-82.557</td>\n",
       "      <td>641.0</td>\n",
       "      <td>NaN</td>\n",
       "      <td>NaN</td>\n",
       "      <td>45.32</td>\n",
       "      <td>...</td>\n",
       "      <td>NaN</td>\n",
       "      <td>NaN</td>\n",
       "      <td>NaN</td>\n",
       "      <td>NaN</td>\n",
       "      <td>ASHEVILLE 13 S</td>\n",
       "      <td>US</td>\n",
       "      <td>999999-53878</td>\n",
       "      <td>2008</td>\n",
       "      <td>10</td>\n",
       "      <td>1.0</td>\n",
       "    </tr>\n",
       "    <tr>\n",
       "      <th>1</th>\n",
       "      <td>2008-01-06</td>\n",
       "      <td>999999</td>\n",
       "      <td>53877</td>\n",
       "      <td>2008-01-06 13:45:00</td>\n",
       "      <td>35.495</td>\n",
       "      <td>-82.614</td>\n",
       "      <td>656.0</td>\n",
       "      <td>NaN</td>\n",
       "      <td>NaN</td>\n",
       "      <td>34.52</td>\n",
       "      <td>...</td>\n",
       "      <td>NaN</td>\n",
       "      <td>NaN</td>\n",
       "      <td>NaN</td>\n",
       "      <td>NaN</td>\n",
       "      <td>ASHEVILLE 8 SSW</td>\n",
       "      <td>US</td>\n",
       "      <td>999999-53877</td>\n",
       "      <td>2008</td>\n",
       "      <td>6</td>\n",
       "      <td>1.0</td>\n",
       "    </tr>\n",
       "    <tr>\n",
       "      <th>2</th>\n",
       "      <td>2008-01-29</td>\n",
       "      <td>999999</td>\n",
       "      <td>53878</td>\n",
       "      <td>2008-01-29 14:35:00</td>\n",
       "      <td>35.419</td>\n",
       "      <td>-82.557</td>\n",
       "      <td>641.0</td>\n",
       "      <td>NaN</td>\n",
       "      <td>NaN</td>\n",
       "      <td>45.14</td>\n",
       "      <td>...</td>\n",
       "      <td>NaN</td>\n",
       "      <td>NaN</td>\n",
       "      <td>NaN</td>\n",
       "      <td>NaN</td>\n",
       "      <td>ASHEVILLE 13 S</td>\n",
       "      <td>US</td>\n",
       "      <td>999999-53878</td>\n",
       "      <td>2008</td>\n",
       "      <td>29</td>\n",
       "      <td>1.0</td>\n",
       "    </tr>\n",
       "    <tr>\n",
       "      <th>3</th>\n",
       "      <td>2008-01-04</td>\n",
       "      <td>999999</td>\n",
       "      <td>53877</td>\n",
       "      <td>2008-01-04 05:25:00</td>\n",
       "      <td>35.495</td>\n",
       "      <td>-82.614</td>\n",
       "      <td>656.0</td>\n",
       "      <td>NaN</td>\n",
       "      <td>NaN</td>\n",
       "      <td>11.48</td>\n",
       "      <td>...</td>\n",
       "      <td>NaN</td>\n",
       "      <td>NaN</td>\n",
       "      <td>NaN</td>\n",
       "      <td>NaN</td>\n",
       "      <td>ASHEVILLE 8 SSW</td>\n",
       "      <td>US</td>\n",
       "      <td>999999-53877</td>\n",
       "      <td>2008</td>\n",
       "      <td>4</td>\n",
       "      <td>1.0</td>\n",
       "    </tr>\n",
       "    <tr>\n",
       "      <th>4</th>\n",
       "      <td>2008-01-12</td>\n",
       "      <td>999999</td>\n",
       "      <td>53878</td>\n",
       "      <td>2008-01-12 00:30:00</td>\n",
       "      <td>35.419</td>\n",
       "      <td>-82.557</td>\n",
       "      <td>641.0</td>\n",
       "      <td>NaN</td>\n",
       "      <td>NaN</td>\n",
       "      <td>42.26</td>\n",
       "      <td>...</td>\n",
       "      <td>NaN</td>\n",
       "      <td>NaN</td>\n",
       "      <td>NaN</td>\n",
       "      <td>NaN</td>\n",
       "      <td>ASHEVILLE 13 S</td>\n",
       "      <td>US</td>\n",
       "      <td>999999-53878</td>\n",
       "      <td>2008</td>\n",
       "      <td>12</td>\n",
       "      <td>1.0</td>\n",
       "    </tr>\n",
       "  </tbody>\n",
       "</table>\n",
       "<p>5 rows × 23 columns</p>\n",
       "</div>"
      ],
      "text/plain": [
       "   Unnamed: 0    usaf   wban             datetime  latitude  longitude  \\\n",
       "0  2008-01-10  999999  53878  2008-01-10 18:30:00    35.419    -82.557   \n",
       "1  2008-01-06  999999  53877  2008-01-06 13:45:00    35.495    -82.614   \n",
       "2  2008-01-29  999999  53878  2008-01-29 14:35:00    35.419    -82.557   \n",
       "3  2008-01-04  999999  53877  2008-01-04 05:25:00    35.495    -82.614   \n",
       "4  2008-01-12  999999  53878  2008-01-12 00:30:00    35.419    -82.557   \n",
       "\n",
       "   elevation  windAngle  windSpeed  temperature  ...  pastWeatherIndicator  \\\n",
       "0      641.0        NaN        NaN        45.32  ...                   NaN   \n",
       "1      656.0        NaN        NaN        34.52  ...                   NaN   \n",
       "2      641.0        NaN        NaN        45.14  ...                   NaN   \n",
       "3      656.0        NaN        NaN        11.48  ...                   NaN   \n",
       "4      641.0        NaN        NaN        42.26  ...                   NaN   \n",
       "\n",
       "  precipTime  precipDepth  snowDepth      stationName  countryOrRegion  \\\n",
       "0        NaN          NaN        NaN   ASHEVILLE 13 S               US   \n",
       "1        NaN          NaN        NaN  ASHEVILLE 8 SSW               US   \n",
       "2        NaN          NaN        NaN   ASHEVILLE 13 S               US   \n",
       "3        NaN          NaN        NaN  ASHEVILLE 8 SSW               US   \n",
       "4        NaN          NaN        NaN   ASHEVILLE 13 S               US   \n",
       "\n",
       "            p_k  year day version  \n",
       "0  999999-53878  2008  10     1.0  \n",
       "1  999999-53877  2008   6     1.0  \n",
       "2  999999-53878  2008  29     1.0  \n",
       "3  999999-53877  2008   4     1.0  \n",
       "4  999999-53878  2008  12     1.0  \n",
       "\n",
       "[5 rows x 23 columns]"
      ]
     },
     "execution_count": 7,
     "metadata": {},
     "output_type": "execute_result"
    }
   ],
   "source": [
    "df = dd.read_csv(datapath, blocksize=blocksize, dtype=dtypes, storage_options=STORAGE_OPTIONS).repartition(npartitions=1000).persist()\n",
    "%time df.head()"
   ]
  },
  {
   "cell_type": "code",
   "execution_count": 17,
   "metadata": {},
   "outputs": [],
   "source": [
    "datapath     = f'{protocol}://{container}/noaa-isd-by-station/'\n",
    "partition_on = ['stationName']\n",
    "compression  = 'lz4'"
   ]
  },
  {
   "cell_type": "markdown",
   "metadata": {},
   "source": [
    "## Cache "
   ]
  },
  {
   "cell_type": "code",
   "execution_count": null,
   "metadata": {},
   "outputs": [],
   "source": [
    "df.to_parquet(datapath, \n",
    "              compression     = compression, \n",
    "              partition_on    = partition_on, \n",
    "              write_index     = False,\n",
    "              storage_options = STORAGE_OPTIONS)"
   ]
  },
  {
   "cell_type": "code",
   "execution_count": null,
   "metadata": {},
   "outputs": [],
   "source": []
  },
  {
   "cell_type": "code",
   "execution_count": null,
   "metadata": {},
   "outputs": [],
   "source": []
  },
  {
   "cell_type": "code",
   "execution_count": null,
   "metadata": {},
   "outputs": [],
   "source": []
  },
  {
   "cell_type": "code",
   "execution_count": null,
   "metadata": {},
   "outputs": [],
   "source": []
  },
  {
   "cell_type": "code",
   "execution_count": null,
   "metadata": {},
   "outputs": [],
   "source": []
  },
  {
   "cell_type": "code",
   "execution_count": null,
   "metadata": {},
   "outputs": [],
   "source": []
  },
  {
   "cell_type": "code",
   "execution_count": null,
   "metadata": {},
   "outputs": [],
   "source": [
    "df = df.set_index(df.stationName.fillna('None'), sorted=False)\n",
    "%time len(df)"
   ]
  },
  {
   "cell_type": "code",
   "execution_count": null,
   "metadata": {},
   "outputs": [],
   "source": [
    "%time len(df)"
   ]
  },
  {
   "cell_type": "code",
   "execution_count": null,
   "metadata": {},
   "outputs": [],
   "source": [
    "df.npartitions"
   ]
  },
  {
   "cell_type": "markdown",
   "metadata": {},
   "source": [
    "## Explore data"
   ]
  },
  {
   "cell_type": "code",
   "execution_count": null,
   "metadata": {},
   "outputs": [],
   "source": [
    "stations = list(df.stationName.unique().compute())\n",
    "stations[-5:]"
   ]
  },
  {
   "cell_type": "code",
   "execution_count": null,
   "metadata": {},
   "outputs": [],
   "source": [
    "df_station = df[df.stationName == stations[0]].compute()\n",
    "df_station.info()"
   ]
  },
  {
   "cell_type": "code",
   "execution_count": null,
   "metadata": {},
   "outputs": [],
   "source": [
    "df_station = df_station.fillna(0)"
   ]
  },
  {
   "cell_type": "code",
   "execution_count": null,
   "metadata": {},
   "outputs": [],
   "source": [
    "cols = list(df_station.columns)\n",
    "cols = [col for col in cols if df_station.dtypes[col] != 'object' and col not in ['version', 'datetime']]\n",
    "cols"
   ]
  },
  {
   "cell_type": "code",
   "execution_count": null,
   "metadata": {},
   "outputs": [],
   "source": [
    "X = df_station[[col for col in cols if col not in ['temperature']]]\n",
    "y = df_station.temperature"
   ]
  },
  {
   "cell_type": "code",
   "execution_count": null,
   "metadata": {},
   "outputs": [],
   "source": [
    "from xgboost import XGBRegressor"
   ]
  },
  {
   "cell_type": "code",
   "execution_count": null,
   "metadata": {},
   "outputs": [],
   "source": [
    "xgb = XGBRegressor(n_estimators=16)\n",
    "%time xgb.fit(X, y)"
   ]
  },
  {
   "cell_type": "code",
   "execution_count": null,
   "metadata": {},
   "outputs": [],
   "source": [
    "%time y_pred = xgb.predict(X)"
   ]
  },
  {
   "cell_type": "code",
   "execution_count": null,
   "metadata": {},
   "outputs": [],
   "source": [
    "rmse = (((y-y_pred)**2).mean())**.5 \n",
    "#run.log('RMSE', rmse)\n",
    "print(f'Training RMSE: {round(rmse, 3)}')"
   ]
  },
  {
   "cell_type": "code",
   "execution_count": null,
   "metadata": {},
   "outputs": [],
   "source": [
    "model_path = 'xgboost_noaa_isd.joblib.dat'\n",
    "joblib.dump(xgb, model_path)\n",
    "xgb = joblib.load(model_path)"
   ]
  },
  {
   "cell_type": "code",
   "execution_count": null,
   "metadata": {},
   "outputs": [],
   "source": [
    "model = Model.register(run.experiment.workspace, \n",
    "                       model_name      = 'xgboost-noaa-isd', \n",
    "                       model_path      = model_path,\n",
    "                       description     = 'Dask XGBoost NOAA ISD temperature predictor',\n",
    "                       model_framework = 'DaskML.XGBoostRegressor')"
   ]
  },
  {
   "cell_type": "code",
   "execution_count": null,
   "metadata": {},
   "outputs": [],
   "source": [
    "os.mkdir('models')"
   ]
  },
  {
   "cell_type": "code",
   "execution_count": null,
   "metadata": {},
   "outputs": [],
   "source": [
    "@dask.delayed\n",
    "def train_on_station(station):\n",
    "    df_station = df[df.stationName == station].compute()\n",
    "    df_station = df_station.fillna(0)\n",
    "    \n",
    "    cols = list(df_station.columns)\n",
    "    cols = [col for col in cols if df_station.dtypes[col] != 'object' and col not in ['version', 'datetime']]\n",
    "    \n",
    "    X = df_station[[col for col in cols if col not in ['temperature']]]\n",
    "    y = df_station.temperature\n",
    "    \n",
    "    xgb = XGBRegressor(n_estimators=16)\n",
    "    xgb.fit(X, y)\n",
    "    \n",
    "    y_pred = xgb.predict(X)\n",
    "    \n",
    "    rmse = (((y-y_pred)**2).mean())**.5 \n",
    "    run.log(f'{station[:16]}_RMSE', rmse)\n",
    "    \n",
    "    model_path = f'models/{station[:16]}_xgboost_noaa_isd.joblib.dat'\n",
    "    joblib.dump(xgb, model_path)\n",
    "\n",
    "    model = Model.register(run.experiment.workspace, \n",
    "                       model_name      = f'{station[:16]}-xgboost-noaa-isd', \n",
    "                       model_path      = model_path,\n",
    "                       description     = 'Dask XGBoost NOAA ISD temperature predictor',\n",
    "                       model_framework = 'DaskML.XGBoostRegressor')"
   ]
  },
  {
   "cell_type": "code",
   "execution_count": null,
   "metadata": {},
   "outputs": [],
   "source": [
    "train_on_station(stations[0]).compute()"
   ]
  },
  {
   "cell_type": "code",
   "execution_count": null,
   "metadata": {},
   "outputs": [],
   "source": []
  },
  {
   "cell_type": "code",
   "execution_count": null,
   "metadata": {},
   "outputs": [],
   "source": []
  },
  {
   "cell_type": "code",
   "execution_count": null,
   "metadata": {},
   "outputs": [],
   "source": []
  },
  {
   "cell_type": "code",
   "execution_count": null,
   "metadata": {},
   "outputs": [],
   "source": []
  },
  {
   "cell_type": "code",
   "execution_count": null,
   "metadata": {},
   "outputs": [],
   "source": []
  },
  {
   "cell_type": "code",
   "execution_count": null,
   "metadata": {},
   "outputs": [],
   "source": []
  },
  {
   "cell_type": "code",
   "execution_count": null,
   "metadata": {},
   "outputs": [],
   "source": []
  },
  {
   "cell_type": "code",
   "execution_count": null,
   "metadata": {},
   "outputs": [],
   "source": []
  },
  {
   "cell_type": "code",
   "execution_count": null,
   "metadata": {},
   "outputs": [],
   "source": []
  },
  {
   "cell_type": "code",
   "execution_count": null,
   "metadata": {},
   "outputs": [],
   "source": []
  },
  {
   "cell_type": "code",
   "execution_count": null,
   "metadata": {},
   "outputs": [],
   "source": []
  },
  {
   "cell_type": "code",
   "execution_count": null,
   "metadata": {},
   "outputs": [],
   "source": []
  },
  {
   "cell_type": "code",
   "execution_count": null,
   "metadata": {},
   "outputs": [],
   "source": []
  },
  {
   "cell_type": "code",
   "execution_count": null,
   "metadata": {},
   "outputs": [],
   "source": []
  },
  {
   "cell_type": "code",
   "execution_count": null,
   "metadata": {},
   "outputs": [],
   "source": []
  },
  {
   "cell_type": "code",
   "execution_count": null,
   "metadata": {},
   "outputs": [],
   "source": []
  },
  {
   "cell_type": "code",
   "execution_count": null,
   "metadata": {},
   "outputs": [],
   "source": []
  },
  {
   "cell_type": "code",
   "execution_count": null,
   "metadata": {},
   "outputs": [],
   "source": []
  },
  {
   "cell_type": "code",
   "execution_count": null,
   "metadata": {},
   "outputs": [],
   "source": []
  },
  {
   "cell_type": "markdown",
   "metadata": {},
   "source": [
    "## Train XGBoost model\n",
    "\n",
    "The below cells are for demo purposes only. The code is not good. The data science is not good. "
   ]
  },
  {
   "cell_type": "code",
   "execution_count": null,
   "metadata": {},
   "outputs": [],
   "source": [
    "# begin data prep for ML \n",
    "df = df.fillna(0)"
   ]
  },
  {
   "cell_type": "code",
   "execution_count": null,
   "metadata": {},
   "outputs": [],
   "source": [
    "cols = list(df.columns)\n",
    "cols = [col for col in cols if df.dtypes[col] != 'object' and col not in ['version', 'datetime']]\n",
    "cols"
   ]
  },
  {
   "cell_type": "code",
   "execution_count": null,
   "metadata": {},
   "outputs": [],
   "source": [
    "X = df[[col for col in cols if col not in ['temperature']]].persist()\n",
    "y = df.temperature.persist()\n",
    "# end data prep for ML"
   ]
  },
  {
   "cell_type": "code",
   "execution_count": null,
   "metadata": {},
   "outputs": [],
   "source": [
    "xgb = XGBRegressor(n_estimators=16)\n",
    "%time xgb.fit(X, y)"
   ]
  },
  {
   "cell_type": "code",
   "execution_count": null,
   "metadata": {},
   "outputs": [],
   "source": [
    "%time y_pred = xgb.predict(X).compute()"
   ]
  },
  {
   "cell_type": "code",
   "execution_count": null,
   "metadata": {},
   "outputs": [],
   "source": [
    "rmse = (((y.to_dask_array().compute()-y_pred)**2).mean())**.5 # runs locally, distribute (?)\n",
    "run.log('RMSE', rmse)\n",
    "print(f'Training RMSE: {round(rmse, 3)}')"
   ]
  },
  {
   "cell_type": "markdown",
   "metadata": {},
   "source": [
    "## Register model"
   ]
  },
  {
   "cell_type": "code",
   "execution_count": null,
   "metadata": {},
   "outputs": [],
   "source": [
    "model_path = 'xgboost_noaa_isd.joblib.dat'\n",
    "joblib.dump(xgb, model_path)\n",
    "xgb = joblib.load(model_path)"
   ]
  },
  {
   "cell_type": "code",
   "execution_count": null,
   "metadata": {},
   "outputs": [],
   "source": [
    "model = Model.register(run.experiment.workspace, \n",
    "                       model_name      = 'xgboost-noaa-isd', \n",
    "                       model_path      = model_path,\n",
    "                       description     = 'Dask XGBoost NOAA ISD temperature predictor',\n",
    "                       model_framework = 'DaskML.XGBoostRegressor')"
   ]
  },
  {
   "cell_type": "code",
   "execution_count": null,
   "metadata": {},
   "outputs": [],
   "source": []
  }
 ],
 "metadata": {
  "kernelspec": {
   "display_name": "Python 3",
   "language": "python",
   "name": "python3"
  },
  "language_info": {
   "codemirror_mode": {
    "name": "ipython",
    "version": 3
   },
   "file_extension": ".py",
   "mimetype": "text/x-python",
   "name": "python",
   "nbconvert_exporter": "python",
   "pygments_lexer": "ipython3",
   "version": "3.6.2"
  }
 },
 "nbformat": 4,
 "nbformat_minor": 4
}
